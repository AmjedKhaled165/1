{
  "metadata": {
    "kernelspec": {
      "display_name": "Python 3",
      "name": "python3"
    },
    "language_info": {
      "pygments_lexer": "ipython3",
      "nbconvert_exporter": "python",
      "version": "3.6.4",
      "file_extension": ".py",
      "codemirror_mode": {
        "name": "ipython",
        "version": 3
      },
      "name": "python",
      "mimetype": "text/x-python"
    },
    "colab": {
      "provenance": [],
      "gpuType": "T4"
    },
    "accelerator": "GPU"
  },
  "nbformat_minor": 0,
  "nbformat": 4,
  "cells": [
    {
      "source": [
        "\n",
        "# IMPORTANT: RUN THIS CELL IN ORDER TO IMPORT YOUR KAGGLE DATA SOURCES\n",
        "# TO THE CORRECT LOCATION (/kaggle/input) IN YOUR NOTEBOOK,\n",
        "# THEN FEEL FREE TO DELETE THIS CELL.\n",
        "# NOTE: THIS NOTEBOOK ENVIRONMENT DIFFERS FROM KAGGLE'S PYTHON\n",
        "# ENVIRONMENT SO THERE MAY BE MISSING LIBRARIES USED BY YOUR\n",
        "# NOTEBOOK.\n",
        "\n",
        "import os\n",
        "import sys\n",
        "from tempfile import NamedTemporaryFile\n",
        "from urllib.request import urlopen\n",
        "from urllib.parse import unquote, urlparse\n",
        "from urllib.error import HTTPError\n",
        "from zipfile import ZipFile\n",
        "import tarfile\n",
        "import shutil\n",
        "\n",
        "CHUNK_SIZE = 40960\n",
        "DATA_SOURCE_MAPPING = 'covid19-radiography-database:https%3A%2F%2Fstorage.googleapis.com%2Fkaggle-data-sets%2F576013%2F3324348%2Fbundle%2Farchive.zip%3FX-Goog-Algorithm%3DGOOG4-RSA-SHA256%26X-Goog-Credential%3Dgcp-kaggle-com%2540kaggle-161607.iam.gserviceaccount.com%252F20240303%252Fauto%252Fstorage%252Fgoog4_request%26X-Goog-Date%3D20240303T205529Z%26X-Goog-Expires%3D259200%26X-Goog-SignedHeaders%3Dhost%26X-Goog-Signature%3Db105d7f31e1d1efef2643a862ebccc93e3f3696da168f117ebd62bfdce12ac80c7c3a536e3bb0dfe72259a6b143fd22e079cb34d1666042146da9e3dede61630ca36a55daefdf13e7286ff9d788974787a1ac24be4929dd014318943e90c935af608ec933c3aaece41fb859fedc9bb8ac2e8f07ac7d38538fbbacb195034683a4faaf54cf323b9c68ede20256818d8abb60c0564594ded95d8a0e87d79f1bec2db09584e204c3574c90f57e35d4cb6b3d771e8f96cfb35e8a56e6fe9a81be6cb7bdb5c08d873af9bd21dd0e571c637e9a0bde76d773da98af5258a9ad08f0346a86d2e3b08f085d0bb44eec9da9a5cd21812efdc48c3225d140d2f981887ee56'\n",
        "\n",
        "KAGGLE_INPUT_PATH='/kaggle/input'\n",
        "KAGGLE_WORKING_PATH='/kaggle/working'\n",
        "KAGGLE_SYMLINK='kaggle'\n",
        "\n",
        "!umount /kaggle/input/ 2> /dev/null\n",
        "shutil.rmtree('/kaggle/input', ignore_errors=True)\n",
        "os.makedirs(KAGGLE_INPUT_PATH, 0o777, exist_ok=True)\n",
        "os.makedirs(KAGGLE_WORKING_PATH, 0o777, exist_ok=True)\n",
        "\n",
        "try:\n",
        "  os.symlink(KAGGLE_INPUT_PATH, os.path.join(\"..\", 'input'), target_is_directory=True)\n",
        "except FileExistsError:\n",
        "  pass\n",
        "try:\n",
        "  os.symlink(KAGGLE_WORKING_PATH, os.path.join(\"..\", 'working'), target_is_directory=True)\n",
        "except FileExistsError:\n",
        "  pass\n",
        "\n",
        "for data_source_mapping in DATA_SOURCE_MAPPING.split(','):\n",
        "    directory, download_url_encoded = data_source_mapping.split(':')\n",
        "    download_url = unquote(download_url_encoded)\n",
        "    filename = urlparse(download_url).path\n",
        "    destination_path = os.path.join(KAGGLE_INPUT_PATH, directory)\n",
        "    try:\n",
        "        with urlopen(download_url) as fileres, NamedTemporaryFile() as tfile:\n",
        "            total_length = fileres.headers['content-length']\n",
        "            print(f'Downloading {directory}, {total_length} bytes compressed')\n",
        "            dl = 0\n",
        "            data = fileres.read(CHUNK_SIZE)\n",
        "            while len(data) > 0:\n",
        "                dl += len(data)\n",
        "                tfile.write(data)\n",
        "                done = int(50 * dl / int(total_length))\n",
        "                sys.stdout.write(f\"\\r[{'=' * done}{' ' * (50-done)}] {dl} bytes downloaded\")\n",
        "                sys.stdout.flush()\n",
        "                data = fileres.read(CHUNK_SIZE)\n",
        "            if filename.endswith('.zip'):\n",
        "              with ZipFile(tfile) as zfile:\n",
        "                zfile.extractall(destination_path)\n",
        "            else:\n",
        "              with tarfile.open(tfile.name) as tarfile:\n",
        "                tarfile.extractall(destination_path)\n",
        "            print(f'\\nDownloaded and uncompressed: {directory}')\n",
        "    except HTTPError as e:\n",
        "        print(f'Failed to load (likely expired) {download_url} to path {destination_path}')\n",
        "        continue\n",
        "    except OSError as e:\n",
        "        print(f'Failed to load {download_url} to path {destination_path}')\n",
        "        continue\n",
        "\n",
        "print('Data source import complete.')\n"
      ],
      "metadata": {
        "id": "VjlB9LUPJ8KC",
        "outputId": "f11eb819-9058-4b51-9d20-63ec9b2d1ee7",
        "colab": {
          "base_uri": "https://localhost:8080/"
        }
      },
      "cell_type": "code",
      "outputs": [
        {
          "output_type": "stream",
          "name": "stdout",
          "text": [
            "Downloading covid19-radiography-database, 816029038 bytes compressed\n",
            "[==================================================] 816029038 bytes downloaded\n",
            "Downloaded and uncompressed: covid19-radiography-database\n",
            "Data source import complete.\n"
          ]
        }
      ],
      "execution_count": null
    },
    {
      "cell_type": "markdown",
      "source": [
        "# Covid-19 Recognition from X-ray Image w/ ML and DL methods\n",
        "\n",
        "## Best model with ConvNet\n",
        "\n",
        "Classification report for classifier :\n",
        "              precision    recall  f1-score   support\n",
        "\n",
        "           0       0.93      0.94      0.93      2038\n",
        "           1       0.91      0.94      0.92       723\n",
        "           2       0.90      0.87      0.89      1203\n",
        "           3       0.94      0.94      0.94       269\n",
        "\n",
        "    accuracy                           0.92      4233\n",
        "*    macro avg       0.92      0.92      0.92      4233\n",
        "* weighted avg       0.92      0.92      0.92      4233\n"
      ],
      "metadata": {
        "id": "8sDq6YycJ8KJ"
      }
    },
    {
      "cell_type": "markdown",
      "source": [
        "## Library Import"
      ],
      "metadata": {
        "id": "ietVg8S4J8KL"
      }
    },
    {
      "cell_type": "code",
      "source": [
        "import os\n",
        "import pandas as pd\n",
        "import numpy as np\n",
        "from PIL import Image, ImageOps\n",
        "import plotly.express as px\n",
        "import matplotlib.pyplot as plt\n",
        "import seaborn as sns\n",
        "import cv2\n",
        "from tqdm import tqdm\n",
        "from sklearn.model_selection import train_test_split\n",
        "from sklearn.metrics import accuracy_score, precision_score, recall_score, f1_score\n",
        "import time\n",
        "import tensorflow as tf\n",
        "\n",
        "\n",
        "import keras\n",
        "from keras import layers\n",
        "from keras.models import Sequential\n",
        "from keras.layers import Dense, Activation, Dropout\n",
        "from sklearn.metrics import classification_report\n",
        "from tensorflow.keras.callbacks import EarlyStopping\n",
        "from keras.preprocessing.image import ImageDataGenerator"
      ],
      "metadata": {
        "execution": {
          "iopub.status.busy": "2023-04-19T16:12:34.709404Z",
          "iopub.execute_input": "2023-04-19T16:12:34.709746Z",
          "iopub.status.idle": "2023-04-19T16:12:45.53583Z",
          "shell.execute_reply.started": "2023-04-19T16:12:34.709667Z",
          "shell.execute_reply": "2023-04-19T16:12:45.534783Z"
        },
        "trusted": true,
        "id": "JcccaL7hJ8KM"
      },
      "execution_count": null,
      "outputs": []
    },
    {
      "cell_type": "markdown",
      "source": [
        "## Data preprocessing"
      ],
      "metadata": {
        "id": "uNT06lT_J8KM"
      }
    },
    {
      "cell_type": "code",
      "source": [
        "# label tagging to the images\n",
        "\n",
        "levels = ['Normal', 'COVID', 'Lung_Opacity', 'Viral Pneumonia']\n",
        "path = \"../input/covid19-radiography-database/COVID-19_Radiography_Dataset\"\n",
        "data_dir = os.path.join(path)\n",
        "\n",
        "data = []\n",
        "for id, level in enumerate(levels):\n",
        "    for file in os.listdir(os.path.join(data_dir, level + '/images')):\n",
        "        data.append(['{}/images/{}'.format(level, file), level])\n",
        "\n",
        "data = pd.DataFrame(data, columns = ['image_file', 'result'])\n",
        "\n",
        "data['path'] = path + '/' + data['image_file']\n",
        "\n",
        "data.head()"
      ],
      "metadata": {
        "_uuid": "8f2839f25d086af736a60e9eeb907d3b93b6e0e5",
        "_cell_guid": "b1076dfc-b9ad-4769-8c92-a6c4dae69d19",
        "execution": {
          "iopub.status.busy": "2023-04-19T16:12:45.537784Z",
          "iopub.execute_input": "2023-04-19T16:12:45.538951Z",
          "iopub.status.idle": "2023-04-19T16:12:47.625584Z",
          "shell.execute_reply.started": "2023-04-19T16:12:45.538913Z",
          "shell.execute_reply": "2023-04-19T16:12:47.624634Z"
        },
        "trusted": true,
        "id": "zdb9YjmeJ8KN",
        "outputId": "8bca4323-4ab5-41e8-b5b6-54af4ee83980",
        "colab": {
          "base_uri": "https://localhost:8080/",
          "height": 206
        }
      },
      "execution_count": null,
      "outputs": [
        {
          "output_type": "execute_result",
          "data": {
            "text/plain": [
              "                      image_file  result  \\\n",
              "0  Normal/images/Normal-7219.png  Normal   \n",
              "1  Normal/images/Normal-2070.png  Normal   \n",
              "2  Normal/images/Normal-6516.png  Normal   \n",
              "3  Normal/images/Normal-2291.png  Normal   \n",
              "4  Normal/images/Normal-7510.png  Normal   \n",
              "\n",
              "                                                path  \n",
              "0  ../input/covid19-radiography-database/COVID-19...  \n",
              "1  ../input/covid19-radiography-database/COVID-19...  \n",
              "2  ../input/covid19-radiography-database/COVID-19...  \n",
              "3  ../input/covid19-radiography-database/COVID-19...  \n",
              "4  ../input/covid19-radiography-database/COVID-19...  "
            ],
            "text/html": [
              "\n",
              "  <div id=\"df-06d524d6-81fa-4dea-98f4-0259ba2eb7fb\" class=\"colab-df-container\">\n",
              "    <div>\n",
              "<style scoped>\n",
              "    .dataframe tbody tr th:only-of-type {\n",
              "        vertical-align: middle;\n",
              "    }\n",
              "\n",
              "    .dataframe tbody tr th {\n",
              "        vertical-align: top;\n",
              "    }\n",
              "\n",
              "    .dataframe thead th {\n",
              "        text-align: right;\n",
              "    }\n",
              "</style>\n",
              "<table border=\"1\" class=\"dataframe\">\n",
              "  <thead>\n",
              "    <tr style=\"text-align: right;\">\n",
              "      <th></th>\n",
              "      <th>image_file</th>\n",
              "      <th>result</th>\n",
              "      <th>path</th>\n",
              "    </tr>\n",
              "  </thead>\n",
              "  <tbody>\n",
              "    <tr>\n",
              "      <th>0</th>\n",
              "      <td>Normal/images/Normal-7219.png</td>\n",
              "      <td>Normal</td>\n",
              "      <td>../input/covid19-radiography-database/COVID-19...</td>\n",
              "    </tr>\n",
              "    <tr>\n",
              "      <th>1</th>\n",
              "      <td>Normal/images/Normal-2070.png</td>\n",
              "      <td>Normal</td>\n",
              "      <td>../input/covid19-radiography-database/COVID-19...</td>\n",
              "    </tr>\n",
              "    <tr>\n",
              "      <th>2</th>\n",
              "      <td>Normal/images/Normal-6516.png</td>\n",
              "      <td>Normal</td>\n",
              "      <td>../input/covid19-radiography-database/COVID-19...</td>\n",
              "    </tr>\n",
              "    <tr>\n",
              "      <th>3</th>\n",
              "      <td>Normal/images/Normal-2291.png</td>\n",
              "      <td>Normal</td>\n",
              "      <td>../input/covid19-radiography-database/COVID-19...</td>\n",
              "    </tr>\n",
              "    <tr>\n",
              "      <th>4</th>\n",
              "      <td>Normal/images/Normal-7510.png</td>\n",
              "      <td>Normal</td>\n",
              "      <td>../input/covid19-radiography-database/COVID-19...</td>\n",
              "    </tr>\n",
              "  </tbody>\n",
              "</table>\n",
              "</div>\n",
              "    <div class=\"colab-df-buttons\">\n",
              "\n",
              "  <div class=\"colab-df-container\">\n",
              "    <button class=\"colab-df-convert\" onclick=\"convertToInteractive('df-06d524d6-81fa-4dea-98f4-0259ba2eb7fb')\"\n",
              "            title=\"Convert this dataframe to an interactive table.\"\n",
              "            style=\"display:none;\">\n",
              "\n",
              "  <svg xmlns=\"http://www.w3.org/2000/svg\" height=\"24px\" viewBox=\"0 -960 960 960\">\n",
              "    <path d=\"M120-120v-720h720v720H120Zm60-500h600v-160H180v160Zm220 220h160v-160H400v160Zm0 220h160v-160H400v160ZM180-400h160v-160H180v160Zm440 0h160v-160H620v160ZM180-180h160v-160H180v160Zm440 0h160v-160H620v160Z\"/>\n",
              "  </svg>\n",
              "    </button>\n",
              "\n",
              "  <style>\n",
              "    .colab-df-container {\n",
              "      display:flex;\n",
              "      gap: 12px;\n",
              "    }\n",
              "\n",
              "    .colab-df-convert {\n",
              "      background-color: #E8F0FE;\n",
              "      border: none;\n",
              "      border-radius: 50%;\n",
              "      cursor: pointer;\n",
              "      display: none;\n",
              "      fill: #1967D2;\n",
              "      height: 32px;\n",
              "      padding: 0 0 0 0;\n",
              "      width: 32px;\n",
              "    }\n",
              "\n",
              "    .colab-df-convert:hover {\n",
              "      background-color: #E2EBFA;\n",
              "      box-shadow: 0px 1px 2px rgba(60, 64, 67, 0.3), 0px 1px 3px 1px rgba(60, 64, 67, 0.15);\n",
              "      fill: #174EA6;\n",
              "    }\n",
              "\n",
              "    .colab-df-buttons div {\n",
              "      margin-bottom: 4px;\n",
              "    }\n",
              "\n",
              "    [theme=dark] .colab-df-convert {\n",
              "      background-color: #3B4455;\n",
              "      fill: #D2E3FC;\n",
              "    }\n",
              "\n",
              "    [theme=dark] .colab-df-convert:hover {\n",
              "      background-color: #434B5C;\n",
              "      box-shadow: 0px 1px 3px 1px rgba(0, 0, 0, 0.15);\n",
              "      filter: drop-shadow(0px 1px 2px rgba(0, 0, 0, 0.3));\n",
              "      fill: #FFFFFF;\n",
              "    }\n",
              "  </style>\n",
              "\n",
              "    <script>\n",
              "      const buttonEl =\n",
              "        document.querySelector('#df-06d524d6-81fa-4dea-98f4-0259ba2eb7fb button.colab-df-convert');\n",
              "      buttonEl.style.display =\n",
              "        google.colab.kernel.accessAllowed ? 'block' : 'none';\n",
              "\n",
              "      async function convertToInteractive(key) {\n",
              "        const element = document.querySelector('#df-06d524d6-81fa-4dea-98f4-0259ba2eb7fb');\n",
              "        const dataTable =\n",
              "          await google.colab.kernel.invokeFunction('convertToInteractive',\n",
              "                                                    [key], {});\n",
              "        if (!dataTable) return;\n",
              "\n",
              "        const docLinkHtml = 'Like what you see? Visit the ' +\n",
              "          '<a target=\"_blank\" href=https://colab.research.google.com/notebooks/data_table.ipynb>data table notebook</a>'\n",
              "          + ' to learn more about interactive tables.';\n",
              "        element.innerHTML = '';\n",
              "        dataTable['output_type'] = 'display_data';\n",
              "        await google.colab.output.renderOutput(dataTable, element);\n",
              "        const docLink = document.createElement('div');\n",
              "        docLink.innerHTML = docLinkHtml;\n",
              "        element.appendChild(docLink);\n",
              "      }\n",
              "    </script>\n",
              "  </div>\n",
              "\n",
              "\n",
              "<div id=\"df-dbd97cf1-2927-4527-a29d-ae1e11cbe853\">\n",
              "  <button class=\"colab-df-quickchart\" onclick=\"quickchart('df-dbd97cf1-2927-4527-a29d-ae1e11cbe853')\"\n",
              "            title=\"Suggest charts\"\n",
              "            style=\"display:none;\">\n",
              "\n",
              "<svg xmlns=\"http://www.w3.org/2000/svg\" height=\"24px\"viewBox=\"0 0 24 24\"\n",
              "     width=\"24px\">\n",
              "    <g>\n",
              "        <path d=\"M19 3H5c-1.1 0-2 .9-2 2v14c0 1.1.9 2 2 2h14c1.1 0 2-.9 2-2V5c0-1.1-.9-2-2-2zM9 17H7v-7h2v7zm4 0h-2V7h2v10zm4 0h-2v-4h2v4z\"/>\n",
              "    </g>\n",
              "</svg>\n",
              "  </button>\n",
              "\n",
              "<style>\n",
              "  .colab-df-quickchart {\n",
              "      --bg-color: #E8F0FE;\n",
              "      --fill-color: #1967D2;\n",
              "      --hover-bg-color: #E2EBFA;\n",
              "      --hover-fill-color: #174EA6;\n",
              "      --disabled-fill-color: #AAA;\n",
              "      --disabled-bg-color: #DDD;\n",
              "  }\n",
              "\n",
              "  [theme=dark] .colab-df-quickchart {\n",
              "      --bg-color: #3B4455;\n",
              "      --fill-color: #D2E3FC;\n",
              "      --hover-bg-color: #434B5C;\n",
              "      --hover-fill-color: #FFFFFF;\n",
              "      --disabled-bg-color: #3B4455;\n",
              "      --disabled-fill-color: #666;\n",
              "  }\n",
              "\n",
              "  .colab-df-quickchart {\n",
              "    background-color: var(--bg-color);\n",
              "    border: none;\n",
              "    border-radius: 50%;\n",
              "    cursor: pointer;\n",
              "    display: none;\n",
              "    fill: var(--fill-color);\n",
              "    height: 32px;\n",
              "    padding: 0;\n",
              "    width: 32px;\n",
              "  }\n",
              "\n",
              "  .colab-df-quickchart:hover {\n",
              "    background-color: var(--hover-bg-color);\n",
              "    box-shadow: 0 1px 2px rgba(60, 64, 67, 0.3), 0 1px 3px 1px rgba(60, 64, 67, 0.15);\n",
              "    fill: var(--button-hover-fill-color);\n",
              "  }\n",
              "\n",
              "  .colab-df-quickchart-complete:disabled,\n",
              "  .colab-df-quickchart-complete:disabled:hover {\n",
              "    background-color: var(--disabled-bg-color);\n",
              "    fill: var(--disabled-fill-color);\n",
              "    box-shadow: none;\n",
              "  }\n",
              "\n",
              "  .colab-df-spinner {\n",
              "    border: 2px solid var(--fill-color);\n",
              "    border-color: transparent;\n",
              "    border-bottom-color: var(--fill-color);\n",
              "    animation:\n",
              "      spin 1s steps(1) infinite;\n",
              "  }\n",
              "\n",
              "  @keyframes spin {\n",
              "    0% {\n",
              "      border-color: transparent;\n",
              "      border-bottom-color: var(--fill-color);\n",
              "      border-left-color: var(--fill-color);\n",
              "    }\n",
              "    20% {\n",
              "      border-color: transparent;\n",
              "      border-left-color: var(--fill-color);\n",
              "      border-top-color: var(--fill-color);\n",
              "    }\n",
              "    30% {\n",
              "      border-color: transparent;\n",
              "      border-left-color: var(--fill-color);\n",
              "      border-top-color: var(--fill-color);\n",
              "      border-right-color: var(--fill-color);\n",
              "    }\n",
              "    40% {\n",
              "      border-color: transparent;\n",
              "      border-right-color: var(--fill-color);\n",
              "      border-top-color: var(--fill-color);\n",
              "    }\n",
              "    60% {\n",
              "      border-color: transparent;\n",
              "      border-right-color: var(--fill-color);\n",
              "    }\n",
              "    80% {\n",
              "      border-color: transparent;\n",
              "      border-right-color: var(--fill-color);\n",
              "      border-bottom-color: var(--fill-color);\n",
              "    }\n",
              "    90% {\n",
              "      border-color: transparent;\n",
              "      border-bottom-color: var(--fill-color);\n",
              "    }\n",
              "  }\n",
              "</style>\n",
              "\n",
              "  <script>\n",
              "    async function quickchart(key) {\n",
              "      const quickchartButtonEl =\n",
              "        document.querySelector('#' + key + ' button');\n",
              "      quickchartButtonEl.disabled = true;  // To prevent multiple clicks.\n",
              "      quickchartButtonEl.classList.add('colab-df-spinner');\n",
              "      try {\n",
              "        const charts = await google.colab.kernel.invokeFunction(\n",
              "            'suggestCharts', [key], {});\n",
              "      } catch (error) {\n",
              "        console.error('Error during call to suggestCharts:', error);\n",
              "      }\n",
              "      quickchartButtonEl.classList.remove('colab-df-spinner');\n",
              "      quickchartButtonEl.classList.add('colab-df-quickchart-complete');\n",
              "    }\n",
              "    (() => {\n",
              "      let quickchartButtonEl =\n",
              "        document.querySelector('#df-dbd97cf1-2927-4527-a29d-ae1e11cbe853 button');\n",
              "      quickchartButtonEl.style.display =\n",
              "        google.colab.kernel.accessAllowed ? 'block' : 'none';\n",
              "    })();\n",
              "  </script>\n",
              "</div>\n",
              "\n",
              "    </div>\n",
              "  </div>\n"
            ],
            "application/vnd.google.colaboratory.intrinsic+json": {
              "type": "dataframe",
              "variable_name": "data",
              "summary": "{\n  \"name\": \"data\",\n  \"rows\": 21165,\n  \"fields\": [\n    {\n      \"column\": \"image_file\",\n      \"properties\": {\n        \"dtype\": \"string\",\n        \"num_unique_values\": 21165,\n        \"samples\": [\n          \"Viral Pneumonia/images/Viral Pneumonia-152.png\",\n          \"COVID/images/COVID-1534.png\",\n          \"Normal/images/Normal-3735.png\"\n        ],\n        \"semantic_type\": \"\",\n        \"description\": \"\"\n      }\n    },\n    {\n      \"column\": \"result\",\n      \"properties\": {\n        \"dtype\": \"category\",\n        \"num_unique_values\": 4,\n        \"samples\": [\n          \"COVID\",\n          \"Viral Pneumonia\",\n          \"Normal\"\n        ],\n        \"semantic_type\": \"\",\n        \"description\": \"\"\n      }\n    },\n    {\n      \"column\": \"path\",\n      \"properties\": {\n        \"dtype\": \"string\",\n        \"num_unique_values\": 21165,\n        \"samples\": [\n          \"../input/covid19-radiography-database/COVID-19_Radiography_Dataset/Viral Pneumonia/images/Viral Pneumonia-152.png\",\n          \"../input/covid19-radiography-database/COVID-19_Radiography_Dataset/COVID/images/COVID-1534.png\",\n          \"../input/covid19-radiography-database/COVID-19_Radiography_Dataset/Normal/images/Normal-3735.png\"\n        ],\n        \"semantic_type\": \"\",\n        \"description\": \"\"\n      }\n    }\n  ]\n}"
            }
          },
          "metadata": {},
          "execution_count": 3
        }
      ]
    },
    {
      "cell_type": "code",
      "source": [
        "print(\"Numbers of X-ray images: {}\".format(data.shape[0]))"
      ],
      "metadata": {
        "execution": {
          "iopub.status.busy": "2023-04-19T16:12:47.626936Z",
          "iopub.execute_input": "2023-04-19T16:12:47.628828Z",
          "iopub.status.idle": "2023-04-19T16:12:47.635015Z",
          "shell.execute_reply.started": "2023-04-19T16:12:47.628791Z",
          "shell.execute_reply": "2023-04-19T16:12:47.63394Z"
        },
        "trusted": true,
        "id": "aBorgPuTJ8KO",
        "outputId": "819f04bf-6f8f-4652-ee02-8286f19158ea",
        "colab": {
          "base_uri": "https://localhost:8080/"
        }
      },
      "execution_count": null,
      "outputs": [
        {
          "output_type": "stream",
          "name": "stdout",
          "text": [
            "Numbers of X-ray images: 21165\n"
          ]
        }
      ]
    },
    {
      "cell_type": "code",
      "source": [
        "#visualisation\n",
        "\n",
        "n_samples = 2\n",
        "\n",
        "fig, m_axs = plt.subplots(4, n_samples, figsize = (6*n_samples, 3*4))\n",
        "\n",
        "for n_axs, (type_name, type_rows) in zip(m_axs, data.sort_values(['result']).groupby('result')):\n",
        "    n_axs[1].set_title(type_name, fontsize = 15)\n",
        "    for c_ax, (_, c_row) in zip(n_axs, type_rows.sample(n_samples, random_state = 1234).iterrows()):\n",
        "        picture = c_row['path']\n",
        "        image = cv2.imread(picture)\n",
        "        c_ax.imshow(image)\n",
        "        c_ax.axis('off')"
      ],
      "metadata": {
        "execution": {
          "iopub.status.busy": "2023-04-19T16:12:47.637811Z",
          "iopub.execute_input": "2023-04-19T16:12:47.638263Z",
          "iopub.status.idle": "2023-04-19T16:12:48.3836Z",
          "shell.execute_reply.started": "2023-04-19T16:12:47.638229Z",
          "shell.execute_reply": "2023-04-19T16:12:48.38263Z"
        },
        "trusted": true,
        "id": "a9gQER2bJ8KQ",
        "outputId": "fa8d732e-404f-4b52-f76d-0633b725e069",
        "colab": {
          "base_uri": "https://localhost:8080/",
          "height": 985
        }
      },
      "execution_count": null,
      "outputs": [
        {
          "output_type": "display_data",
          "data": {
            "text/plain": [
              "<Figure size 1200x1200 with 8 Axes>"
            ],
            "image/png": "[encoded data removed]"
          },
          "metadata": {}
        }
      ]
    },
    {
      "cell_type": "code",
      "source": [
        "sx = sns.countplot(data['result'])\n",
        "sx.set_xticklabels(labels=sx.get_xticklabels(), rotation=90)\n",
        "plt.show()"
      ],
      "metadata": {
        "execution": {
          "iopub.status.busy": "2023-04-19T16:12:48.384704Z",
          "iopub.execute_input": "2023-04-19T16:12:48.385834Z",
          "iopub.status.idle": "2023-04-19T16:12:48.57874Z",
          "shell.execute_reply.started": "2023-04-19T16:12:48.385796Z",
          "shell.execute_reply": "2023-04-19T16:12:48.577755Z"
        },
        "trusted": true,
        "id": "ijA6HGulJ8KR",
        "outputId": "715d1051-e651-49b6-f115-c487edfe22d8",
        "colab": {
          "base_uri": "https://localhost:8080/",
          "height": 515
        }
      },
      "execution_count": null,
      "outputs": [
        {
          "output_type": "stream",
          "name": "stderr",
          "text": [
            "<ipython-input-6-6e24529e5eb0>:2: UserWarning: FixedFormatter should only be used together with FixedLocator\n",
            "  sx.set_xticklabels(labels=sx.get_xticklabels(), rotation=90)\n"
          ]
        },
        {
          "output_type": "display_data",
          "data": {
            "text/plain": [
              "<Figure size 640x480 with 1 Axes>"
            ],
            "image/png": "[encoded data removed]"
          },
          "metadata": {}
        }
      ]
    },
    {
      "cell_type": "code",
      "source": [
        "print('Normal : ', list(data['result']).count('Normal'))\n",
        "print('Covid : ', list(data['result']).count('COVID'))\n",
        "print('Opacity : ', list(data['result']).count('Lung_Opacity'))\n",
        "print('VIral Pneumonia : ', list(data['result']).count('Viral Pneumonia'))\n",
        "#10192 images sont normales"
      ],
      "metadata": {
        "execution": {
          "iopub.status.busy": "2023-04-19T16:12:48.580333Z",
          "iopub.execute_input": "2023-04-19T16:12:48.580821Z",
          "iopub.status.idle": "2023-04-19T16:12:48.597149Z",
          "shell.execute_reply.started": "2023-04-19T16:12:48.580785Z",
          "shell.execute_reply": "2023-04-19T16:12:48.59626Z"
        },
        "trusted": true,
        "id": "NgM43Le0J8KR",
        "outputId": "d2627951-1a4c-474a-b812-a40c7c55e7b2",
        "colab": {
          "base_uri": "https://localhost:8080/"
        }
      },
      "execution_count": null,
      "outputs": [
        {
          "output_type": "stream",
          "name": "stdout",
          "text": [
            "Normal :  10192\n",
            "Covid :  3616\n",
            "Opacity :  6012\n",
            "VIral Pneumonia :  1345\n"
          ]
        }
      ]
    },
    {
      "cell_type": "code",
      "source": [
        "round(data['result'].value_counts() / data.shape[0] * 100,2)"
      ],
      "metadata": {
        "execution": {
          "iopub.status.busy": "2023-04-19T16:12:48.59969Z",
          "iopub.execute_input": "2023-04-19T16:12:48.600375Z",
          "iopub.status.idle": "2023-04-19T16:12:48.620073Z",
          "shell.execute_reply.started": "2023-04-19T16:12:48.600339Z",
          "shell.execute_reply": "2023-04-19T16:12:48.61904Z"
        },
        "trusted": true,
        "id": "InxC9sNYJ8KS",
        "outputId": "ad4a806b-cf00-48b6-ee5e-d05d773fc6c8",
        "colab": {
          "base_uri": "https://localhost:8080/"
        }
      },
      "execution_count": null,
      "outputs": [
        {
          "output_type": "execute_result",
          "data": {
            "text/plain": [
              "Normal             48.15\n",
              "Lung_Opacity       28.41\n",
              "COVID              17.08\n",
              "Viral Pneumonia     6.35\n",
              "Name: result, dtype: float64"
            ]
          },
          "metadata": {},
          "execution_count": 8
        }
      ]
    },
    {
      "cell_type": "code",
      "source": [
        "pixel_img = []\n",
        "\n",
        "for image in tqdm(data['path']):\n",
        "    img=Image.open(image)\n",
        "    img=ImageOps.grayscale(img)\n",
        "    img=img.resize((64,64))\n",
        "    img=np.asarray(img)\n",
        "    img=img.reshape((64,64,1))\n",
        "    pixel_img.append(img)"
      ],
      "metadata": {
        "execution": {
          "iopub.status.busy": "2023-04-19T16:12:48.623597Z",
          "iopub.execute_input": "2023-04-19T16:12:48.624016Z",
          "iopub.status.idle": "2023-04-19T16:16:05.530598Z",
          "shell.execute_reply.started": "2023-04-19T16:12:48.623916Z",
          "shell.execute_reply": "2023-04-19T16:16:05.529636Z"
        },
        "trusted": true,
        "id": "jp2_7lwQJ8KT",
        "outputId": "49236a30-e143-4196-e0e2-c198a1229410",
        "colab": {
          "base_uri": "https://localhost:8080/"
        }
      },
      "execution_count": null,
      "outputs": [
        {
          "output_type": "stream",
          "name": "stderr",
          "text": [
            "100%|██████████| 21165/21165 [00:44<00:00, 473.46it/s]\n"
          ]
        }
      ]
    },
    {
      "cell_type": "code",
      "source": [
        "pixel_img = np.array(pixel_img)\n",
        "label_img = data['result'].map({'Normal': 0, 'COVID': 1, 'Lung_Opacity' : 2,\n",
        "                               'Viral Pneumonia' : 3})\n",
        "\n",
        "print(pixel_img.shape, label_img.shape)"
      ],
      "metadata": {
        "execution": {
          "iopub.status.busy": "2023-04-19T16:16:05.532101Z",
          "iopub.execute_input": "2023-04-19T16:16:05.532676Z",
          "iopub.status.idle": "2023-04-19T16:16:05.590393Z",
          "shell.execute_reply.started": "2023-04-19T16:16:05.532637Z",
          "shell.execute_reply": "2023-04-19T16:16:05.589201Z"
        },
        "trusted": true,
        "id": "bt-p-MEdJ8KT",
        "outputId": "7a23db02-a6f2-41ad-98d9-c050ae810584",
        "colab": {
          "base_uri": "https://localhost:8080/"
        }
      },
      "execution_count": null,
      "outputs": [
        {
          "output_type": "stream",
          "name": "stdout",
          "text": [
            "(21165, 64, 64, 1) (21165,)\n"
          ]
        }
      ]
    },
    {
      "cell_type": "code",
      "source": [
        "#20% will be used for test\n",
        "X_train, X_test, y_train, y_test = train_test_split(pixel_img, label_img,\n",
        "                                                    test_size=0.2, stratify=label_img)\n",
        "print(X_train.shape)\n",
        "print(X_test.shape)\n",
        "print(y_train.shape)\n",
        "print(y_test.shape)\n",
        "\n",
        "#16932 images for train et 4233 for test"
      ],
      "metadata": {
        "execution": {
          "iopub.status.busy": "2023-04-19T16:29:41.411957Z",
          "iopub.execute_input": "2023-04-19T16:29:41.412321Z",
          "iopub.status.idle": "2023-04-19T16:29:41.45976Z",
          "shell.execute_reply.started": "2023-04-19T16:29:41.412292Z",
          "shell.execute_reply": "2023-04-19T16:29:41.458748Z"
        },
        "trusted": true,
        "id": "uD_NsAp7J8KU",
        "outputId": "5c81a084-59e3-4c87-ca29-5ddc78306243",
        "colab": {
          "base_uri": "https://localhost:8080/"
        }
      },
      "execution_count": null,
      "outputs": [
        {
          "output_type": "stream",
          "name": "stdout",
          "text": [
            "(16932, 64, 64, 1)\n",
            "(4233, 64, 64, 1)\n",
            "(16932,)\n",
            "(4233,)\n"
          ]
        }
      ]
    },
    {
      "cell_type": "code",
      "source": [
        "round(y_train.value_counts() / y_train.shape[0] * 100,2)"
      ],
      "metadata": {
        "execution": {
          "iopub.status.busy": "2023-04-19T16:16:05.636925Z",
          "iopub.execute_input": "2023-04-19T16:16:05.637646Z",
          "iopub.status.idle": "2023-04-19T16:16:05.647112Z",
          "shell.execute_reply.started": "2023-04-19T16:16:05.637604Z",
          "shell.execute_reply": "2023-04-19T16:16:05.64586Z"
        },
        "trusted": true,
        "id": "byzYDB0DJ8KU",
        "outputId": "c60df299-d1d0-4c88-aca3-158818d7e71e",
        "colab": {
          "base_uri": "https://localhost:8080/"
        }
      },
      "execution_count": null,
      "outputs": [
        {
          "output_type": "execute_result",
          "data": {
            "text/plain": [
              "0    48.16\n",
              "2    28.40\n",
              "1    17.09\n",
              "3     6.35\n",
              "Name: result, dtype: float64"
            ]
          },
          "metadata": {},
          "execution_count": 12
        }
      ]
    },
    {
      "cell_type": "code",
      "source": [
        "input_size = X_train.shape[1] * X_train.shape[2]\n",
        "print(input_size)\n",
        "\n",
        "num_classes = len(np.unique(y_train))\n",
        "print(num_classes)"
      ],
      "metadata": {
        "execution": {
          "iopub.status.busy": "2023-04-19T16:16:05.648367Z",
          "iopub.execute_input": "2023-04-19T16:16:05.649181Z",
          "iopub.status.idle": "2023-04-19T16:16:05.659167Z",
          "shell.execute_reply.started": "2023-04-19T16:16:05.649144Z",
          "shell.execute_reply": "2023-04-19T16:16:05.657843Z"
        },
        "trusted": true,
        "id": "C_HRbVEdJ8KV",
        "outputId": "32c9985b-68e3-47e7-a797-03b6611d7762",
        "colab": {
          "base_uri": "https://localhost:8080/"
        }
      },
      "execution_count": null,
      "outputs": [
        {
          "output_type": "stream",
          "name": "stdout",
          "text": [
            "4096\n",
            "4\n"
          ]
        }
      ]
    },
    {
      "cell_type": "code",
      "source": [
        "# flatten the image\n",
        "X_train = np.reshape(X_train, [X_train.shape[0], input_size])\n",
        "X_train = X_train.astype('float32') / 255\n",
        "\n",
        "X_test = np.reshape(X_test, [X_test.shape[0], input_size])\n",
        "X_test = X_test.astype('float32') / 255"
      ],
      "metadata": {
        "execution": {
          "iopub.status.busy": "2023-04-19T15:21:33.272167Z",
          "iopub.execute_input": "2023-04-19T15:21:33.272547Z",
          "iopub.status.idle": "2023-04-19T15:21:33.432765Z",
          "shell.execute_reply.started": "2023-04-19T15:21:33.272512Z",
          "shell.execute_reply": "2023-04-19T15:21:33.43149Z"
        },
        "trusted": true,
        "id": "ct3aExpmJ8KV"
      },
      "execution_count": null,
      "outputs": []
    },
    {
      "cell_type": "markdown",
      "source": [
        "## Machine learning models"
      ],
      "metadata": {
        "id": "BL7IcyShJ8KV"
      }
    },
    {
      "cell_type": "code",
      "source": [
        "from sklearn import svm\n",
        "\n",
        "# Train the SVM\n",
        "svm_model = svm.SVC(kernel='rbf')\n",
        "svm_model.fit(X_train,y_train)\n",
        "\n",
        "# Evaluate the model\n",
        "y_pred = svm_model.predict(X_test)"
      ],
      "metadata": {
        "execution": {
          "iopub.status.busy": "2023-04-19T15:21:33.434576Z",
          "iopub.execute_input": "2023-04-19T15:21:33.4354Z",
          "iopub.status.idle": "2023-04-19T15:32:34.675386Z",
          "shell.execute_reply.started": "2023-04-19T15:21:33.43535Z",
          "shell.execute_reply": "2023-04-19T15:32:34.674063Z"
        },
        "trusted": true,
        "id": "BltZ4dUmJ8KW"
      },
      "execution_count": null,
      "outputs": []
    },
    {
      "cell_type": "code",
      "source": [
        "accuracy_score(y_test, y_pred)"
      ],
      "metadata": {
        "execution": {
          "iopub.status.busy": "2023-04-19T15:32:34.677092Z",
          "iopub.execute_input": "2023-04-19T15:32:34.67793Z",
          "iopub.status.idle": "2023-04-19T15:32:34.686199Z",
          "shell.execute_reply.started": "2023-04-19T15:32:34.67789Z",
          "shell.execute_reply": "2023-04-19T15:32:34.684946Z"
        },
        "trusted": true,
        "id": "9X-Sp67TJ8KW",
        "outputId": "49c993b6-5d75-4f1b-ddba-2dcd2cba81ac",
        "colab": {
          "base_uri": "https://localhost:8080/"
        }
      },
      "execution_count": null,
      "outputs": [
        {
          "output_type": "execute_result",
          "data": {
            "text/plain": [
              "0.8237656508386487"
            ]
          },
          "metadata": {},
          "execution_count": 16
        }
      ]
    },
    {
      "cell_type": "code",
      "source": [
        "from sklearn import svm\n",
        "\n",
        "mo=svm.SVC(kernel='rbf')\n",
        "mo.fit(X_train,y_train)\n",
        "\n",
        "y_pred=mo.predict(X_test)\n",
        "accuracy_score(y_test,y_pred)"
      ],
      "metadata": {
        "id": "RtyWf3YtSaPN"
      },
      "execution_count": null,
      "outputs": []
    },
    {
      "cell_type": "code",
      "source": [
        "# confusion matrix and accuracy\n",
        "\n",
        "from sklearn import metrics\n",
        "from sklearn.metrics import classification_report\n",
        "\n",
        "print(f\"Classification report for classifier {svm_model}:\\n\"\n",
        "      f\"{metrics.classification_report(y_test, y_pred)}\\n\")"
      ],
      "metadata": {
        "execution": {
          "iopub.status.busy": "2023-04-19T15:32:34.687658Z",
          "iopub.execute_input": "2023-04-19T15:32:34.688015Z",
          "iopub.status.idle": "2023-04-19T15:32:34.711422Z",
          "shell.execute_reply.started": "2023-04-19T15:32:34.687983Z",
          "shell.execute_reply": "2023-04-19T15:32:34.709886Z"
        },
        "trusted": true,
        "id": "O8-Cb3HOJ8KW",
        "outputId": "e35af9af-8f9f-4ad0-f194-a068ad0e8cb0",
        "colab": {
          "base_uri": "https://localhost:8080/"
        }
      },
      "execution_count": null,
      "outputs": [
        {
          "output_type": "stream",
          "name": "stdout",
          "text": [
            "Classification report for classifier SVC():\n",
            "              precision    recall  f1-score   support\n",
            "\n",
            "           0       0.82      0.91      0.87      2038\n",
            "           1       0.83      0.66      0.73       723\n",
            "           2       0.80      0.76      0.78      1203\n",
            "           3       0.92      0.89      0.91       269\n",
            "\n",
            "    accuracy                           0.82      4233\n",
            "   macro avg       0.84      0.80      0.82      4233\n",
            "weighted avg       0.82      0.82      0.82      4233\n",
            "\n",
            "\n"
          ]
        }
      ]
    },
    {
      "cell_type": "code",
      "source": [
        "from sklearn.naive_bayes import MultinomialNB\n",
        "\n",
        "# Train the MultinomialNB\n",
        "nb_model = MultinomialNB()\n",
        "nb_model.fit(X_train,y_train)\n",
        "\n",
        "# Evaluate the model\n",
        "y_pred = nb_model.predict(X_test)"
      ],
      "metadata": {
        "execution": {
          "iopub.status.busy": "2023-04-19T15:45:15.778387Z",
          "iopub.execute_input": "2023-04-19T15:45:15.778888Z",
          "iopub.status.idle": "2023-04-19T15:45:16.241138Z",
          "shell.execute_reply.started": "2023-04-19T15:45:15.778839Z",
          "shell.execute_reply": "2023-04-19T15:45:16.239663Z"
        },
        "trusted": true,
        "id": "6VLLsKj4J8KY"
      },
      "execution_count": null,
      "outputs": []
    },
    {
      "cell_type": "code",
      "source": [
        "# confusion matrix and accuracy\n",
        "\n",
        "from sklearn import metrics\n",
        "from sklearn.metrics import classification_report\n",
        "\n",
        "acc = accuracy_score(y_test, y_pred)\n",
        "print(f\"Accuracy: {acc}\")\n",
        "print(f\"Classification report for classifier {nb_model}:\\n\"\n",
        "      f\"{metrics.classification_report(y_test, y_pred)}\\n\")"
      ],
      "metadata": {
        "execution": {
          "iopub.status.busy": "2023-04-19T15:45:16.243515Z",
          "iopub.execute_input": "2023-04-19T15:45:16.244631Z",
          "iopub.status.idle": "2023-04-19T15:45:16.274591Z",
          "shell.execute_reply.started": "2023-04-19T15:45:16.244571Z",
          "shell.execute_reply": "2023-04-19T15:45:16.273223Z"
        },
        "trusted": true,
        "id": "4s2PNmikJ8KY",
        "outputId": "7e26f756-19ab-49b6-c7fe-5eb64caecd7e",
        "colab": {
          "base_uri": "https://localhost:8080/"
        }
      },
      "execution_count": null,
      "outputs": [
        {
          "output_type": "stream",
          "name": "stdout",
          "text": [
            "Accuracy: 0.553508150248051\n",
            "Classification report for classifier MultinomialNB():\n",
            "              precision    recall  f1-score   support\n",
            "\n",
            "           0       0.77      0.51      0.62      2038\n",
            "           1       0.33      0.53      0.40       723\n",
            "           2       0.62      0.57      0.59      1203\n",
            "           3       0.38      0.86      0.53       269\n",
            "\n",
            "    accuracy                           0.55      4233\n",
            "   macro avg       0.52      0.62      0.54      4233\n",
            "weighted avg       0.63      0.55      0.57      4233\n",
            "\n",
            "\n"
          ]
        }
      ]
    },
    {
      "cell_type": "markdown",
      "source": [
        "## ConvNet"
      ],
      "metadata": {
        "id": "KlwDO_SpJ8Kb"
      }
    },
    {
      "cell_type": "code",
      "source": [
        "# Reconstruct 2D matrix 64x64\n",
        "# 20% for test\n",
        "\n",
        "X_train, X_test, y_train, y_test = train_test_split(pixel_img, label_img,\n",
        "                                                    test_size=0.2, stratify=label_img)\n",
        "\n",
        "y_train = tf.keras.utils.to_categorical(y_train)\n",
        "y_test = tf.keras.utils.to_categorical(y_test)\n",
        "\n",
        "X_train = X_train.astype('float32') / 255\n",
        "X_test = X_test.astype('float32') / 255\n",
        "\n",
        "print(X_train.shape)\n",
        "print(X_test.shape)\n",
        "print(y_train.shape)\n",
        "print(y_test.shape)\n",
        "\n",
        "input_shape = (X_train.shape[1],X_train.shape[2],1)"
      ],
      "metadata": {
        "execution": {
          "iopub.status.busy": "2023-04-19T16:16:05.661237Z",
          "iopub.execute_input": "2023-04-19T16:16:05.661684Z",
          "iopub.status.idle": "2023-04-19T16:16:05.819881Z",
          "shell.execute_reply.started": "2023-04-19T16:16:05.661648Z",
          "shell.execute_reply": "2023-04-19T16:16:05.818706Z"
        },
        "trusted": true,
        "id": "3V0CzQACJ8Kb",
        "outputId": "586c5f60-97f1-4c5f-9a74-559e47f568b3",
        "colab": {
          "base_uri": "https://localhost:8080/"
        }
      },
      "execution_count": null,
      "outputs": [
        {
          "output_type": "stream",
          "name": "stdout",
          "text": [
            "(16932, 64, 64, 1)\n",
            "(4233, 64, 64, 1)\n",
            "(16932, 4)\n",
            "(4233, 4)\n"
          ]
        }
      ]
    },
    {
      "cell_type": "code",
      "source": [
        "cnn_model1 = keras.Sequential(\n",
        "    [\n",
        "        keras.Input(shape=input_shape),\n",
        "        layers.Conv2D(32, kernel_size=(3,3), padding=\"same\", activation=\"relu\"),\n",
        "        layers.Conv2D(32, kernel_size=(3,3), padding=\"valid\", activation=\"relu\"),\n",
        "        layers.MaxPooling2D(pool_size=(2,2)),\n",
        "        layers.Dropout(0.2, seed=235),\n",
        "        layers.Conv2D(32, kernel_size=(3,3), padding=\"same\", activation=\"relu\"),\n",
        "        layers.Conv2D(32, kernel_size=(3,3), padding=\"valid\", activation=\"relu\"),\n",
        "        layers.MaxPooling2D(pool_size=(2,2)),\n",
        "        layers.Dropout(0.2, seed=235),\n",
        "        layers.Conv2D(32, kernel_size=(3,3), padding=\"same\", activation=\"relu\"),\n",
        "        layers.Conv2D(32, kernel_size=(3,3), padding=\"valid\", activation=\"relu\"),\n",
        "        layers.MaxPooling2D(pool_size=(2,2)),\n",
        "        layers.Dropout(0.2, seed=235),\n",
        "        layers.Flatten(),\n",
        "        layers.Dropout(0.5, seed=235),\n",
        "        layers.Dense(512, activation=\"relu\"),\n",
        "        layers.Dense(num_classes, activation=\"softmax\"),\n",
        "    ]\n",
        ")\n",
        "cnn_model1.summary()"
      ],
      "metadata": {
        "execution": {
          "iopub.status.busy": "2023-04-19T16:16:05.821531Z",
          "iopub.execute_input": "2023-04-19T16:16:05.82199Z",
          "iopub.status.idle": "2023-04-19T16:16:10.648159Z",
          "shell.execute_reply.started": "2023-04-19T16:16:05.821954Z",
          "shell.execute_reply": "2023-04-19T16:16:10.647107Z"
        },
        "trusted": true,
        "id": "CuSV3V_zJ8Kc"
      },
      "execution_count": null,
      "outputs": []
    },
    {
      "cell_type": "code",
      "source": [
        "cnn_model1 = keras.Sequential(\n",
        "    [\n",
        "        keras.Input(shape=input_shape),\n",
        "        layers.Conv2D(32,kernel_size(3,3),padding='valid',activation='relu'),\n",
        "        layers.Conv2D(32,kernel_size(3,3),padding='same',activation='relu'),\n",
        "        layers.MaxPool2D(pool_size=(2,2)),\n",
        "        layers.Dropout(0.2,seed=235),\n",
        "        layers.Conv2D(32,kernel_size(3,3),padding='valid',activation='relu'),\n",
        "        layers.Conv2D(32,kernel_size(3,3),padding='same',activation='relu'),\n",
        "        layers.MaxPool2D(pool_size=(2,2)),\n",
        "        layers.Dropout(0.2,seed=235),\n",
        "        layers.Conv2D(32,kernel_size(3,3),padding='valid',activation='relu'),\n",
        "        layers.Conv2D(32,kernel_size(3,3),padding='same',activation='relu'),\n",
        "        layers.MaxPool2D(pool_size=(2,2)),\n",
        "        layers.Dropout(0.2,seed=235),\n",
        "        layers.Flatten(),\n",
        "        layers.Dropout(0.5,seed=235),\n",
        "        layers.Dense(512,activation='relu')\n",
        "        layers.Dense(num_classes,activation='softmax'),\n",
        "    ]\n",
        ")\n",
        "cnn_model1.summary()"
      ],
      "metadata": {
        "id": "MkDFAXD8TXGM"
      },
      "execution_count": null,
      "outputs": []
    },
    {
      "cell_type": "code",
      "source": [
        "cnn_model1.compile(loss=\"categorical_crossentropy\", optimizer=\"adam\", metrics=[\"accuracy\"])\n",
        "es = EarlyStopping(monitor='val_accuracy', mode='max', patience=10,  restore_best_weights=True)\n",
        "\n",
        "start_time = time.time()\n",
        "history = cnn_model1.fit(X_train, y_train, epochs=50, batch_size=128)\n",
        "print(\"Temps de calcul :\", time.time() - start_time)"
      ],
      "metadata": {
        "execution": {
          "iopub.status.busy": "2023-04-19T16:16:10.652338Z",
          "iopub.execute_input": "2023-04-19T16:16:10.654736Z",
          "iopub.status.idle": "2023-04-19T16:19:30.221232Z",
          "shell.execute_reply.started": "2023-04-19T16:16:10.6547Z",
          "shell.execute_reply": "2023-04-19T16:19:30.220242Z"
        },
        "trusted": true,
        "id": "9G_R8Dv-J8Kc",
        "outputId": "a7c91db7-144d-4387-fee1-1098f0e6197f",
        "colab": {
          "base_uri": "https://localhost:8080/"
        }
      },
      "execution_count": null,
      "outputs": [
        {
          "output_type": "stream",
          "name": "stdout",
          "text": [
            "Epoch 1/50\n",
            "133/133 [==============================] - 13s 38ms/step - loss: 0.9567 - accuracy: 0.6056\n",
            "Epoch 2/50\n",
            "133/133 [==============================] - 4s 31ms/step - loss: 0.7075 - accuracy: 0.7144\n",
            "Epoch 3/50\n",
            "133/133 [==============================] - 4s 32ms/step - loss: 0.6101 - accuracy: 0.7592\n",
            "Epoch 4/50\n",
            "133/133 [==============================] - 4s 31ms/step - loss: 0.5514 - accuracy: 0.7838\n",
            "Epoch 5/50\n",
            "133/133 [==============================] - 4s 31ms/step - loss: 0.4846 - accuracy: 0.8134\n",
            "Epoch 6/50\n",
            "133/133 [==============================] - 4s 32ms/step - loss: 0.4489 - accuracy: 0.8292\n",
            "Epoch 7/50\n",
            "133/133 [==============================] - 4s 32ms/step - loss: 0.4112 - accuracy: 0.8467\n",
            "Epoch 8/50\n",
            "133/133 [==============================] - 4s 32ms/step - loss: 0.3872 - accuracy: 0.8534\n",
            "Epoch 9/50\n",
            "133/133 [==============================] - 4s 32ms/step - loss: 0.3723 - accuracy: 0.8600\n",
            "Epoch 10/50\n",
            "133/133 [==============================] - 4s 32ms/step - loss: 0.3418 - accuracy: 0.8698\n",
            "Epoch 11/50\n",
            "133/133 [==============================] - 4s 32ms/step - loss: 0.3320 - accuracy: 0.8742\n",
            "Epoch 12/50\n",
            "133/133 [==============================] - 4s 32ms/step - loss: 0.3161 - accuracy: 0.8821\n",
            "Epoch 13/50\n",
            "133/133 [==============================] - 4s 32ms/step - loss: 0.3162 - accuracy: 0.8810\n",
            "Epoch 14/50\n",
            "133/133 [==============================] - 4s 33ms/step - loss: 0.2959 - accuracy: 0.8883\n",
            "Epoch 15/50\n",
            "133/133 [==============================] - 4s 32ms/step - loss: 0.2855 - accuracy: 0.8931\n",
            "Epoch 16/50\n",
            "133/133 [==============================] - 4s 32ms/step - loss: 0.2777 - accuracy: 0.8961\n",
            "Epoch 17/50\n",
            "133/133 [==============================] - 4s 33ms/step - loss: 0.2619 - accuracy: 0.9022\n",
            "Epoch 18/50\n",
            "133/133 [==============================] - 4s 33ms/step - loss: 0.2492 - accuracy: 0.9067\n",
            "Epoch 19/50\n",
            "133/133 [==============================] - 4s 33ms/step - loss: 0.2475 - accuracy: 0.9065\n",
            "Epoch 20/50\n",
            "133/133 [==============================] - 4s 34ms/step - loss: 0.2426 - accuracy: 0.9082\n",
            "Epoch 21/50\n",
            "133/133 [==============================] - 4s 33ms/step - loss: 0.2282 - accuracy: 0.9145\n",
            "Epoch 22/50\n",
            "133/133 [==============================] - 4s 33ms/step - loss: 0.2229 - accuracy: 0.9178\n",
            "Epoch 23/50\n",
            "133/133 [==============================] - 4s 33ms/step - loss: 0.2206 - accuracy: 0.9176\n",
            "Epoch 24/50\n",
            "133/133 [==============================] - 4s 33ms/step - loss: 0.2147 - accuracy: 0.9215\n",
            "Epoch 25/50\n",
            "133/133 [==============================] - 5s 34ms/step - loss: 0.2049 - accuracy: 0.9228\n",
            "Epoch 26/50\n",
            "133/133 [==============================] - 4s 33ms/step - loss: 0.2022 - accuracy: 0.9249\n",
            "Epoch 27/50\n",
            "133/133 [==============================] - 4s 33ms/step - loss: 0.1925 - accuracy: 0.9271\n",
            "Epoch 28/50\n",
            "133/133 [==============================] - 5s 34ms/step - loss: 0.1820 - accuracy: 0.9334\n",
            "Epoch 29/50\n",
            "133/133 [==============================] - 4s 33ms/step - loss: 0.1830 - accuracy: 0.9328\n",
            "Epoch 30/50\n",
            "133/133 [==============================] - 4s 34ms/step - loss: 0.1770 - accuracy: 0.9346\n",
            "Epoch 31/50\n",
            "133/133 [==============================] - 5s 37ms/step - loss: 0.1784 - accuracy: 0.9330\n",
            "Epoch 32/50\n",
            "133/133 [==============================] - 5s 41ms/step - loss: 0.1724 - accuracy: 0.9353\n",
            "Epoch 33/50\n",
            "133/133 [==============================] - 5s 40ms/step - loss: 0.1738 - accuracy: 0.9336\n",
            "Epoch 34/50\n",
            "133/133 [==============================] - 4s 33ms/step - loss: 0.1693 - accuracy: 0.9359\n",
            "Epoch 35/50\n",
            "133/133 [==============================] - 4s 34ms/step - loss: 0.1566 - accuracy: 0.9421\n",
            "Epoch 36/50\n",
            "133/133 [==============================] - 4s 34ms/step - loss: 0.1604 - accuracy: 0.9405\n",
            "Epoch 37/50\n",
            "133/133 [==============================] - 4s 33ms/step - loss: 0.1473 - accuracy: 0.9454\n",
            "Epoch 38/50\n",
            "133/133 [==============================] - 4s 34ms/step - loss: 0.1470 - accuracy: 0.9450\n",
            "Epoch 39/50\n",
            "133/133 [==============================] - 4s 33ms/step - loss: 0.1448 - accuracy: 0.9469\n",
            "Epoch 40/50\n",
            "133/133 [==============================] - 4s 33ms/step - loss: 0.1391 - accuracy: 0.9489\n",
            "Epoch 41/50\n",
            "133/133 [==============================] - 4s 34ms/step - loss: 0.1374 - accuracy: 0.9484\n",
            "Epoch 42/50\n",
            "133/133 [==============================] - 4s 33ms/step - loss: 0.1438 - accuracy: 0.9476\n",
            "Epoch 43/50\n",
            "133/133 [==============================] - 4s 33ms/step - loss: 0.1325 - accuracy: 0.9517\n",
            "Epoch 44/50\n",
            "133/133 [==============================] - 5s 34ms/step - loss: 0.1292 - accuracy: 0.9526\n",
            "Epoch 45/50\n",
            "133/133 [==============================] - 4s 33ms/step - loss: 0.1328 - accuracy: 0.9493\n",
            "Epoch 46/50\n",
            "133/133 [==============================] - 5s 34ms/step - loss: 0.1260 - accuracy: 0.9538\n",
            "Epoch 47/50\n",
            "133/133 [==============================] - 4s 34ms/step - loss: 0.1226 - accuracy: 0.9542\n",
            "Epoch 48/50\n",
            "133/133 [==============================] - 5s 36ms/step - loss: 0.1260 - accuracy: 0.9526\n",
            "Epoch 49/50\n",
            "133/133 [==============================] - 5s 34ms/step - loss: 0.1267 - accuracy: 0.9524\n",
            "Epoch 50/50\n",
            "133/133 [==============================] - 4s 33ms/step - loss: 0.1123 - accuracy: 0.9574\n",
            "Temps de calcul : 263.81741762161255\n"
          ]
        }
      ]
    },
    {
      "cell_type": "code",
      "source": [
        "loss, acc = cnn_model1.evaluate(X_test, y_test, verbose=0)\n",
        "\n",
        "print(\"Accuracy model8 adam: %.2f%%\" % (100.0 * acc))\n",
        "\n",
        "predictions = cnn_model1.predict(X_test)\n",
        "pd.crosstab(np.argmax(y_test, axis=1), np.argmax(predictions, axis=1))"
      ],
      "metadata": {
        "execution": {
          "iopub.status.busy": "2023-04-19T16:19:34.872442Z",
          "iopub.execute_input": "2023-04-19T16:19:34.873175Z",
          "iopub.status.idle": "2023-04-19T16:19:36.620764Z",
          "shell.execute_reply.started": "2023-04-19T16:19:34.873135Z",
          "shell.execute_reply": "2023-04-19T16:19:36.619705Z"
        },
        "trusted": true,
        "id": "NbPaL7rZJ8Kc",
        "outputId": "82e2b3ef-7f35-4a9f-ebc7-2790217c107c",
        "colab": {
          "base_uri": "https://localhost:8080/",
          "height": 242
        }
      },
      "execution_count": null,
      "outputs": [
        {
          "output_type": "stream",
          "name": "stdout",
          "text": [
            "Accuracy model8 adam: 91.54%\n",
            "133/133 [==============================] - 0s 2ms/step\n"
          ]
        },
        {
          "output_type": "execute_result",
          "data": {
            "text/plain": [
              "col_0     0    1     2    3\n",
              "row_0                      \n",
              "0      1915   13    94   16\n",
              "1        11  668    41    3\n",
              "2       163    5  1033    2\n",
              "3         4    3     3  259"
            ],
            "text/html": [
              "\n",
              "  <div id=\"df-5789331d-63b1-4865-9f03-ee851d4475eb\" class=\"colab-df-container\">\n",
              "    <div>\n",
              "<style scoped>\n",
              "    .dataframe tbody tr th:only-of-type {\n",
              "        vertical-align: middle;\n",
              "    }\n",
              "\n",
              "    .dataframe tbody tr th {\n",
              "        vertical-align: top;\n",
              "    }\n",
              "\n",
              "    .dataframe thead th {\n",
              "        text-align: right;\n",
              "    }\n",
              "</style>\n",
              "<table border=\"1\" class=\"dataframe\">\n",
              "  <thead>\n",
              "    <tr style=\"text-align: right;\">\n",
              "      <th>col_0</th>\n",
              "      <th>0</th>\n",
              "      <th>1</th>\n",
              "      <th>2</th>\n",
              "      <th>3</th>\n",
              "    </tr>\n",
              "    <tr>\n",
              "      <th>row_0</th>\n",
              "      <th></th>\n",
              "      <th></th>\n",
              "      <th></th>\n",
              "      <th></th>\n",
              "    </tr>\n",
              "  </thead>\n",
              "  <tbody>\n",
              "    <tr>\n",
              "      <th>0</th>\n",
              "      <td>1915</td>\n",
              "      <td>13</td>\n",
              "      <td>94</td>\n",
              "      <td>16</td>\n",
              "    </tr>\n",
              "    <tr>\n",
              "      <th>1</th>\n",
              "      <td>11</td>\n",
              "      <td>668</td>\n",
              "      <td>41</td>\n",
              "      <td>3</td>\n",
              "    </tr>\n",
              "    <tr>\n",
              "      <th>2</th>\n",
              "      <td>163</td>\n",
              "      <td>5</td>\n",
              "      <td>1033</td>\n",
              "      <td>2</td>\n",
              "    </tr>\n",
              "    <tr>\n",
              "      <th>3</th>\n",
              "      <td>4</td>\n",
              "      <td>3</td>\n",
              "      <td>3</td>\n",
              "      <td>259</td>\n",
              "    </tr>\n",
              "  </tbody>\n",
              "</table>\n",
              "</div>\n",
              "    <div class=\"colab-df-buttons\">\n",
              "\n",
              "  <div class=\"colab-df-container\">\n",
              "    <button class=\"colab-df-convert\" onclick=\"convertToInteractive('df-5789331d-63b1-4865-9f03-ee851d4475eb')\"\n",
              "            title=\"Convert this dataframe to an interactive table.\"\n",
              "            style=\"display:none;\">\n",
              "\n",
              "  <svg xmlns=\"http://www.w3.org/2000/svg\" height=\"24px\" viewBox=\"0 -960 960 960\">\n",
              "    <path d=\"M120-120v-720h720v720H120Zm60-500h600v-160H180v160Zm220 220h160v-160H400v160Zm0 220h160v-160H400v160ZM180-400h160v-160H180v160Zm440 0h160v-160H620v160ZM180-180h160v-160H180v160Zm440 0h160v-160H620v160Z\"/>\n",
              "  </svg>\n",
              "    </button>\n",
              "\n",
              "  <style>\n",
              "    .colab-df-container {\n",
              "      display:flex;\n",
              "      gap: 12px;\n",
              "    }\n",
              "\n",
              "    .colab-df-convert {\n",
              "      background-color: #E8F0FE;\n",
              "      border: none;\n",
              "      border-radius: 50%;\n",
              "      cursor: pointer;\n",
              "      display: none;\n",
              "      fill: #1967D2;\n",
              "      height: 32px;\n",
              "      padding: 0 0 0 0;\n",
              "      width: 32px;\n",
              "    }\n",
              "\n",
              "    .colab-df-convert:hover {\n",
              "      background-color: #E2EBFA;\n",
              "      box-shadow: 0px 1px 2px rgba(60, 64, 67, 0.3), 0px 1px 3px 1px rgba(60, 64, 67, 0.15);\n",
              "      fill: #174EA6;\n",
              "    }\n",
              "\n",
              "    .colab-df-buttons div {\n",
              "      margin-bottom: 4px;\n",
              "    }\n",
              "\n",
              "    [theme=dark] .colab-df-convert {\n",
              "      background-color: #3B4455;\n",
              "      fill: #D2E3FC;\n",
              "    }\n",
              "\n",
              "    [theme=dark] .colab-df-convert:hover {\n",
              "      background-color: #434B5C;\n",
              "      box-shadow: 0px 1px 3px 1px rgba(0, 0, 0, 0.15);\n",
              "      filter: drop-shadow(0px 1px 2px rgba(0, 0, 0, 0.3));\n",
              "      fill: #FFFFFF;\n",
              "    }\n",
              "  </style>\n",
              "\n",
              "    <script>\n",
              "      const buttonEl =\n",
              "        document.querySelector('#df-5789331d-63b1-4865-9f03-ee851d4475eb button.colab-df-convert');\n",
              "      buttonEl.style.display =\n",
              "        google.colab.kernel.accessAllowed ? 'block' : 'none';\n",
              "\n",
              "      async function convertToInteractive(key) {\n",
              "        const element = document.querySelector('#df-5789331d-63b1-4865-9f03-ee851d4475eb');\n",
              "        const dataTable =\n",
              "          await google.colab.kernel.invokeFunction('convertToInteractive',\n",
              "                                                    [key], {});\n",
              "        if (!dataTable) return;\n",
              "\n",
              "        const docLinkHtml = 'Like what you see? Visit the ' +\n",
              "          '<a target=\"_blank\" href=https://colab.research.google.com/notebooks/data_table.ipynb>data table notebook</a>'\n",
              "          + ' to learn more about interactive tables.';\n",
              "        element.innerHTML = '';\n",
              "        dataTable['output_type'] = 'display_data';\n",
              "        await google.colab.output.renderOutput(dataTable, element);\n",
              "        const docLink = document.createElement('div');\n",
              "        docLink.innerHTML = docLinkHtml;\n",
              "        element.appendChild(docLink);\n",
              "      }\n",
              "    </script>\n",
              "  </div>\n",
              "\n",
              "\n",
              "<div id=\"df-869a57d4-61fa-4f76-938b-94a91939433b\">\n",
              "  <button class=\"colab-df-quickchart\" onclick=\"quickchart('df-869a57d4-61fa-4f76-938b-94a91939433b')\"\n",
              "            title=\"Suggest charts\"\n",
              "            style=\"display:none;\">\n",
              "\n",
              "<svg xmlns=\"http://www.w3.org/2000/svg\" height=\"24px\"viewBox=\"0 0 24 24\"\n",
              "     width=\"24px\">\n",
              "    <g>\n",
              "        <path d=\"M19 3H5c-1.1 0-2 .9-2 2v14c0 1.1.9 2 2 2h14c1.1 0 2-.9 2-2V5c0-1.1-.9-2-2-2zM9 17H7v-7h2v7zm4 0h-2V7h2v10zm4 0h-2v-4h2v4z\"/>\n",
              "    </g>\n",
              "</svg>\n",
              "  </button>\n",
              "\n",
              "<style>\n",
              "  .colab-df-quickchart {\n",
              "      --bg-color: #E8F0FE;\n",
              "      --fill-color: #1967D2;\n",
              "      --hover-bg-color: #E2EBFA;\n",
              "      --hover-fill-color: #174EA6;\n",
              "      --disabled-fill-color: #AAA;\n",
              "      --disabled-bg-color: #DDD;\n",
              "  }\n",
              "\n",
              "  [theme=dark] .colab-df-quickchart {\n",
              "      --bg-color: #3B4455;\n",
              "      --fill-color: #D2E3FC;\n",
              "      --hover-bg-color: #434B5C;\n",
              "      --hover-fill-color: #FFFFFF;\n",
              "      --disabled-bg-color: #3B4455;\n",
              "      --disabled-fill-color: #666;\n",
              "  }\n",
              "\n",
              "  .colab-df-quickchart {\n",
              "    background-color: var(--bg-color);\n",
              "    border: none;\n",
              "    border-radius: 50%;\n",
              "    cursor: pointer;\n",
              "    display: none;\n",
              "    fill: var(--fill-color);\n",
              "    height: 32px;\n",
              "    padding: 0;\n",
              "    width: 32px;\n",
              "  }\n",
              "\n",
              "  .colab-df-quickchart:hover {\n",
              "    background-color: var(--hover-bg-color);\n",
              "    box-shadow: 0 1px 2px rgba(60, 64, 67, 0.3), 0 1px 3px 1px rgba(60, 64, 67, 0.15);\n",
              "    fill: var(--button-hover-fill-color);\n",
              "  }\n",
              "\n",
              "  .colab-df-quickchart-complete:disabled,\n",
              "  .colab-df-quickchart-complete:disabled:hover {\n",
              "    background-color: var(--disabled-bg-color);\n",
              "    fill: var(--disabled-fill-color);\n",
              "    box-shadow: none;\n",
              "  }\n",
              "\n",
              "  .colab-df-spinner {\n",
              "    border: 2px solid var(--fill-color);\n",
              "    border-color: transparent;\n",
              "    border-bottom-color: var(--fill-color);\n",
              "    animation:\n",
              "      spin 1s steps(1) infinite;\n",
              "  }\n",
              "\n",
              "  @keyframes spin {\n",
              "    0% {\n",
              "      border-color: transparent;\n",
              "      border-bottom-color: var(--fill-color);\n",
              "      border-left-color: var(--fill-color);\n",
              "    }\n",
              "    20% {\n",
              "      border-color: transparent;\n",
              "      border-left-color: var(--fill-color);\n",
              "      border-top-color: var(--fill-color);\n",
              "    }\n",
              "    30% {\n",
              "      border-color: transparent;\n",
              "      border-left-color: var(--fill-color);\n",
              "      border-top-color: var(--fill-color);\n",
              "      border-right-color: var(--fill-color);\n",
              "    }\n",
              "    40% {\n",
              "      border-color: transparent;\n",
              "      border-right-color: var(--fill-color);\n",
              "      border-top-color: var(--fill-color);\n",
              "    }\n",
              "    60% {\n",
              "      border-color: transparent;\n",
              "      border-right-color: var(--fill-color);\n",
              "    }\n",
              "    80% {\n",
              "      border-color: transparent;\n",
              "      border-right-color: var(--fill-color);\n",
              "      border-bottom-color: var(--fill-color);\n",
              "    }\n",
              "    90% {\n",
              "      border-color: transparent;\n",
              "      border-bottom-color: var(--fill-color);\n",
              "    }\n",
              "  }\n",
              "</style>\n",
              "\n",
              "  <script>\n",
              "    async function quickchart(key) {\n",
              "      const quickchartButtonEl =\n",
              "        document.querySelector('#' + key + ' button');\n",
              "      quickchartButtonEl.disabled = true;  // To prevent multiple clicks.\n",
              "      quickchartButtonEl.classList.add('colab-df-spinner');\n",
              "      try {\n",
              "        const charts = await google.colab.kernel.invokeFunction(\n",
              "            'suggestCharts', [key], {});\n",
              "      } catch (error) {\n",
              "        console.error('Error during call to suggestCharts:', error);\n",
              "      }\n",
              "      quickchartButtonEl.classList.remove('colab-df-spinner');\n",
              "      quickchartButtonEl.classList.add('colab-df-quickchart-complete');\n",
              "    }\n",
              "    (() => {\n",
              "      let quickchartButtonEl =\n",
              "        document.querySelector('#df-869a57d4-61fa-4f76-938b-94a91939433b button');\n",
              "      quickchartButtonEl.style.display =\n",
              "        google.colab.kernel.accessAllowed ? 'block' : 'none';\n",
              "    })();\n",
              "  </script>\n",
              "</div>\n",
              "\n",
              "    </div>\n",
              "  </div>\n"
            ],
            "application/vnd.google.colaboratory.intrinsic+json": {
              "type": "dataframe",
              "summary": "{\n  \"name\": \"pd\",\n  \"rows\": 4,\n  \"fields\": [\n    {\n      \"column\": 0,\n      \"properties\": {\n        \"dtype\": \"number\",\n        \"std\": 930,\n        \"min\": 4,\n        \"max\": 1915,\n        \"num_unique_values\": 4,\n        \"samples\": [\n          11,\n          4,\n          1915\n        ],\n        \"semantic_type\": \"\",\n        \"description\": \"\"\n      }\n    },\n    {\n      \"column\": 1,\n      \"properties\": {\n        \"dtype\": \"number\",\n        \"std\": 330,\n        \"min\": 3,\n        \"max\": 668,\n        \"num_unique_values\": 4,\n        \"samples\": [\n          668,\n          3,\n          13\n        ],\n        \"semantic_type\": \"\",\n        \"description\": \"\"\n      }\n    },\n    {\n      \"column\": 2,\n      \"properties\": {\n        \"dtype\": \"number\",\n        \"std\": 494,\n        \"min\": 3,\n        \"max\": 1033,\n        \"num_unique_values\": 4,\n        \"samples\": [\n          41,\n          3,\n          94\n        ],\n        \"semantic_type\": \"\",\n        \"description\": \"\"\n      }\n    },\n    {\n      \"column\": 3,\n      \"properties\": {\n        \"dtype\": \"number\",\n        \"std\": 126,\n        \"min\": 2,\n        \"max\": 259,\n        \"num_unique_values\": 4,\n        \"samples\": [\n          3,\n          259,\n          16\n        ],\n        \"semantic_type\": \"\",\n        \"description\": \"\"\n      }\n    }\n  ]\n}"
            }
          },
          "metadata": {},
          "execution_count": 23
        }
      ]
    },
    {
      "cell_type": "code",
      "source": [
        "# confusion matrix and accuracy\n",
        "\n",
        "from sklearn import metrics\n",
        "from sklearn.metrics import classification_report\n",
        "\n",
        "print(\"Classification report for classifier :\\n\"\n",
        "      f\"{metrics.classification_report(np.argmax(y_test, axis=1), np.argmax(predictions, axis=1))}\\n\")"
      ],
      "metadata": {
        "execution": {
          "iopub.status.busy": "2023-04-19T16:20:45.733795Z",
          "iopub.execute_input": "2023-04-19T16:20:45.734146Z",
          "iopub.status.idle": "2023-04-19T16:20:45.750918Z",
          "shell.execute_reply.started": "2023-04-19T16:20:45.734116Z",
          "shell.execute_reply": "2023-04-19T16:20:45.749851Z"
        },
        "trusted": true,
        "id": "Fu17f6e0J8Kd",
        "outputId": "043f7a9a-d0bc-400e-a777-a1889127240d",
        "colab": {
          "base_uri": "https://localhost:8080/"
        }
      },
      "execution_count": null,
      "outputs": [
        {
          "output_type": "stream",
          "name": "stdout",
          "text": [
            "Classification report for classifier :\n",
            "              precision    recall  f1-score   support\n",
            "\n",
            "           0       0.91      0.94      0.93      2038\n",
            "           1       0.97      0.92      0.95       723\n",
            "           2       0.88      0.86      0.87      1203\n",
            "           3       0.93      0.96      0.94       269\n",
            "\n",
            "    accuracy                           0.92      4233\n",
            "   macro avg       0.92      0.92      0.92      4233\n",
            "weighted avg       0.92      0.92      0.92      4233\n",
            "\n",
            "\n"
          ]
        }
      ]
    },
    {
      "cell_type": "code",
      "source": [
        "cnn_model2 = keras.Sequential(\n",
        "    [\n",
        "        keras.Input(shape=input_shape),\n",
        "        layers.Conv2D(32, kernel_size=(3,3), padding=\"same\", activation=\"relu\"),\n",
        "        layers.Conv2D(32, kernel_size=(3,3), padding=\"valid\", activation=\"relu\"),\n",
        "        layers.MaxPooling2D(pool_size=(2,2)),\n",
        "        layers.Dropout(0.2, seed=235),\n",
        "        layers.Conv2D(32, kernel_size=(3,3), padding=\"same\", activation=\"relu\"),\n",
        "        layers.Conv2D(32, kernel_size=(3,3), padding=\"valid\", activation=\"relu\"),\n",
        "        layers.MaxPooling2D(pool_size=(2,2)),\n",
        "        layers.Dropout(0.2, seed=235),\n",
        "        layers.Conv2D(32, kernel_size=(3,3), padding=\"same\", activation=\"relu\"),\n",
        "        layers.Conv2D(32, kernel_size=(3,3), padding=\"valid\", activation=\"relu\"),\n",
        "        layers.MaxPooling2D(pool_size=(2,2)),\n",
        "        layers.Dropout(0.2, seed=235),\n",
        "        layers.Conv2D(32, kernel_size=(3,3), padding=\"same\", activation=\"relu\"),\n",
        "        layers.Conv2D(32, kernel_size=(3,3), padding=\"valid\", activation=\"relu\"),\n",
        "        layers.MaxPooling2D(pool_size=(2,2)),\n",
        "        layers.Dropout(0.2, seed=235),\n",
        "        layers.Flatten(),\n",
        "        layers.Dropout(0.5, seed=235),\n",
        "        layers.Dense(512, activation=\"relu\"),\n",
        "        layers.Dense(num_classes, activation=\"softmax\"),\n",
        "    ]\n",
        ")\n",
        "cnn_model2.summary()"
      ],
      "metadata": {
        "execution": {
          "iopub.status.busy": "2023-04-19T16:20:51.287005Z",
          "iopub.execute_input": "2023-04-19T16:20:51.287393Z",
          "iopub.status.idle": "2023-04-19T16:20:51.416964Z",
          "shell.execute_reply.started": "2023-04-19T16:20:51.287361Z",
          "shell.execute_reply": "2023-04-19T16:20:51.415949Z"
        },
        "trusted": true,
        "id": "oOK_mvT3J8Kt",
        "outputId": "bebf6160-c702-4203-89de-38d8538cdc56",
        "colab": {
          "base_uri": "https://localhost:8080/"
        }
      },
      "execution_count": null,
      "outputs": [
        {
          "output_type": "stream",
          "name": "stdout",
          "text": [
            "Model: \"sequential_1\"\n",
            "_________________________________________________________________\n",
            " Layer (type)                Output Shape              Param #   \n",
            "=================================================================\n",
            " conv2d_6 (Conv2D)           (None, 64, 64, 32)        320       \n",
            "                                                                 \n",
            " conv2d_7 (Conv2D)           (None, 62, 62, 32)        9248      \n",
            "                                                                 \n",
            " max_pooling2d_3 (MaxPoolin  (None, 31, 31, 32)        0         \n",
            " g2D)                                                            \n",
            "                                                                 \n",
            " dropout_4 (Dropout)         (None, 31, 31, 32)        0         \n",
            "                                                                 \n",
            " conv2d_8 (Conv2D)           (None, 31, 31, 32)        9248      \n",
            "                                                                 \n",
            " conv2d_9 (Conv2D)           (None, 29, 29, 32)        9248      \n",
            "                                                                 \n",
            " max_pooling2d_4 (MaxPoolin  (None, 14, 14, 32)        0         \n",
            " g2D)                                                            \n",
            "                                                                 \n",
            " dropout_5 (Dropout)         (None, 14, 14, 32)        0         \n",
            "                                                                 \n",
            " conv2d_10 (Conv2D)          (None, 14, 14, 32)        9248      \n",
            "                                                                 \n",
            " conv2d_11 (Conv2D)          (None, 12, 12, 32)        9248      \n",
            "                                                                 \n",
            " max_pooling2d_5 (MaxPoolin  (None, 6, 6, 32)          0         \n",
            " g2D)                                                            \n",
            "                                                                 \n",
            " dropout_6 (Dropout)         (None, 6, 6, 32)          0         \n",
            "                                                                 \n",
            " conv2d_12 (Conv2D)          (None, 6, 6, 32)          9248      \n",
            "                                                                 \n",
            " conv2d_13 (Conv2D)          (None, 4, 4, 32)          9248      \n",
            "                                                                 \n",
            " max_pooling2d_6 (MaxPoolin  (None, 2, 2, 32)          0         \n",
            " g2D)                                                            \n",
            "                                                                 \n",
            " dropout_7 (Dropout)         (None, 2, 2, 32)          0         \n",
            "                                                                 \n",
            " flatten_1 (Flatten)         (None, 128)               0         \n",
            "                                                                 \n",
            " dropout_8 (Dropout)         (None, 128)               0         \n",
            "                                                                 \n",
            " dense_2 (Dense)             (None, 512)               66048     \n",
            "                                                                 \n",
            " dense_3 (Dense)             (None, 4)                 2052      \n",
            "                                                                 \n",
            "=================================================================\n",
            "Total params: 133156 (520.14 KB)\n",
            "Trainable params: 133156 (520.14 KB)\n",
            "Non-trainable params: 0 (0.00 Byte)\n",
            "_________________________________________________________________\n"
          ]
        }
      ]
    },
    {
      "cell_type": "code",
      "source": [
        "cnn_model2.compile(loss=\"categorical_crossentropy\", optimizer=\"adam\", metrics=[\"accuracy\"])\n",
        "es = EarlyStopping(monitor='val_accuracy', mode='max', patience=10,  restore_best_weights=True)\n",
        "\n",
        "start_time = time.time()\n",
        "history = cnn_model2.fit(X_train, y_train, epochs=50, batch_size=128)\n",
        "print(\"Temps de calcul :\", time.time() - start_time)"
      ],
      "metadata": {
        "execution": {
          "iopub.status.busy": "2023-04-19T16:20:54.496133Z",
          "iopub.execute_input": "2023-04-19T16:20:54.496482Z",
          "iopub.status.idle": "2023-04-19T16:24:17.810236Z",
          "shell.execute_reply.started": "2023-04-19T16:20:54.496451Z",
          "shell.execute_reply": "2023-04-19T16:24:17.809088Z"
        },
        "trusted": true,
        "id": "rfa2uw6EJ8Kt",
        "outputId": "74e358b4-b63e-4f05-b0f1-177ed2993410",
        "colab": {
          "base_uri": "https://localhost:8080/"
        }
      },
      "execution_count": null,
      "outputs": [
        {
          "output_type": "stream",
          "name": "stdout",
          "text": [
            "Epoch 1/50\n",
            "133/133 [==============================] - 8s 36ms/step - loss: 1.1295 - accuracy: 0.5177\n",
            "Epoch 2/50\n",
            "133/133 [==============================] - 5s 34ms/step - loss: 0.8385 - accuracy: 0.6568\n",
            "Epoch 3/50\n",
            "133/133 [==============================] - 5s 35ms/step - loss: 0.7262 - accuracy: 0.7061\n",
            "Epoch 4/50\n",
            "133/133 [==============================] - 5s 34ms/step - loss: 0.6605 - accuracy: 0.7372\n",
            "Epoch 5/50\n",
            "133/133 [==============================] - 5s 35ms/step - loss: 0.6268 - accuracy: 0.7528\n",
            "Epoch 6/50\n",
            "133/133 [==============================] - 5s 40ms/step - loss: 0.5861 - accuracy: 0.7713\n",
            "Epoch 7/50\n",
            "133/133 [==============================] - 5s 41ms/step - loss: 0.5416 - accuracy: 0.7884\n",
            "Epoch 8/50\n",
            "133/133 [==============================] - 5s 35ms/step - loss: 0.5161 - accuracy: 0.7974\n",
            "Epoch 9/50\n",
            "133/133 [==============================] - 5s 34ms/step - loss: 0.4838 - accuracy: 0.8176\n",
            "Epoch 10/50\n",
            "133/133 [==============================] - 5s 35ms/step - loss: 0.4590 - accuracy: 0.8285\n",
            "Epoch 11/50\n",
            "133/133 [==============================] - 5s 35ms/step - loss: 0.4420 - accuracy: 0.8327\n",
            "Epoch 12/50\n",
            "133/133 [==============================] - 5s 34ms/step - loss: 0.4182 - accuracy: 0.8420\n",
            "Epoch 13/50\n",
            "133/133 [==============================] - 5s 35ms/step - loss: 0.3979 - accuracy: 0.8537\n",
            "Epoch 14/50\n",
            "133/133 [==============================] - 5s 34ms/step - loss: 0.3723 - accuracy: 0.8599\n",
            "Epoch 15/50\n",
            "133/133 [==============================] - 5s 34ms/step - loss: 0.3640 - accuracy: 0.8685\n",
            "Epoch 16/50\n",
            "133/133 [==============================] - 5s 35ms/step - loss: 0.3615 - accuracy: 0.8661\n",
            "Epoch 17/50\n",
            "133/133 [==============================] - 4s 34ms/step - loss: 0.3469 - accuracy: 0.8724\n",
            "Epoch 18/50\n",
            "133/133 [==============================] - 5s 34ms/step - loss: 0.3325 - accuracy: 0.8766\n",
            "Epoch 19/50\n",
            "133/133 [==============================] - 5s 34ms/step - loss: 0.3171 - accuracy: 0.8832\n",
            "Epoch 20/50\n",
            "133/133 [==============================] - 5s 34ms/step - loss: 0.3170 - accuracy: 0.8839\n",
            "Epoch 21/50\n",
            "133/133 [==============================] - 5s 35ms/step - loss: 0.3063 - accuracy: 0.8853\n",
            "Epoch 22/50\n",
            "133/133 [==============================] - 5s 34ms/step - loss: 0.2964 - accuracy: 0.8917\n",
            "Epoch 23/50\n",
            "133/133 [==============================] - 5s 34ms/step - loss: 0.2959 - accuracy: 0.8907\n",
            "Epoch 24/50\n",
            "133/133 [==============================] - 5s 39ms/step - loss: 0.2990 - accuracy: 0.8912\n",
            "Epoch 25/50\n",
            "133/133 [==============================] - 5s 35ms/step - loss: 0.2757 - accuracy: 0.8968\n",
            "Epoch 26/50\n",
            "133/133 [==============================] - 5s 35ms/step - loss: 0.2701 - accuracy: 0.9017\n",
            "Epoch 27/50\n",
            "133/133 [==============================] - 5s 35ms/step - loss: 0.2670 - accuracy: 0.9027\n",
            "Epoch 28/50\n",
            "133/133 [==============================] - 5s 35ms/step - loss: 0.2686 - accuracy: 0.9008\n",
            "Epoch 29/50\n",
            "133/133 [==============================] - 5s 35ms/step - loss: 0.2673 - accuracy: 0.9009\n",
            "Epoch 30/50\n",
            "133/133 [==============================] - 5s 35ms/step - loss: 0.2538 - accuracy: 0.9051\n",
            "Epoch 31/50\n",
            "133/133 [==============================] - 5s 35ms/step - loss: 0.2537 - accuracy: 0.9079\n",
            "Epoch 32/50\n",
            "133/133 [==============================] - 5s 35ms/step - loss: 0.2486 - accuracy: 0.9074\n",
            "Epoch 33/50\n",
            "133/133 [==============================] - 5s 34ms/step - loss: 0.2428 - accuracy: 0.9112\n",
            "Epoch 34/50\n",
            "133/133 [==============================] - 5s 35ms/step - loss: 0.2408 - accuracy: 0.9103\n",
            "Epoch 35/50\n",
            "133/133 [==============================] - 5s 34ms/step - loss: 0.2426 - accuracy: 0.9082\n",
            "Epoch 36/50\n",
            "133/133 [==============================] - 4s 34ms/step - loss: 0.2330 - accuracy: 0.9140\n",
            "Epoch 37/50\n",
            "133/133 [==============================] - 5s 35ms/step - loss: 0.2296 - accuracy: 0.9154\n",
            "Epoch 38/50\n",
            "133/133 [==============================] - 5s 39ms/step - loss: 0.2279 - accuracy: 0.9154\n",
            "Epoch 39/50\n",
            "133/133 [==============================] - 5s 39ms/step - loss: 0.2215 - accuracy: 0.9176\n",
            "Epoch 40/50\n",
            "133/133 [==============================] - 5s 34ms/step - loss: 0.2183 - accuracy: 0.9210\n",
            "Epoch 41/50\n",
            "133/133 [==============================] - 5s 34ms/step - loss: 0.2218 - accuracy: 0.9183\n",
            "Epoch 42/50\n",
            "133/133 [==============================] - 5s 35ms/step - loss: 0.2219 - accuracy: 0.9192\n",
            "Epoch 43/50\n",
            "133/133 [==============================] - 5s 34ms/step - loss: 0.2158 - accuracy: 0.9209\n",
            "Epoch 44/50\n",
            "133/133 [==============================] - 5s 35ms/step - loss: 0.2116 - accuracy: 0.9223\n",
            "Epoch 45/50\n",
            "133/133 [==============================] - 5s 35ms/step - loss: 0.2117 - accuracy: 0.9227\n",
            "Epoch 46/50\n",
            "133/133 [==============================] - 5s 34ms/step - loss: 0.2179 - accuracy: 0.9213\n",
            "Epoch 47/50\n",
            "133/133 [==============================] - 5s 35ms/step - loss: 0.2143 - accuracy: 0.9206\n",
            "Epoch 48/50\n",
            "133/133 [==============================] - 5s 34ms/step - loss: 0.2017 - accuracy: 0.9284\n",
            "Epoch 49/50\n",
            "133/133 [==============================] - 5s 34ms/step - loss: 0.2157 - accuracy: 0.9210\n",
            "Epoch 50/50\n",
            "133/133 [==============================] - 5s 35ms/step - loss: 0.2048 - accuracy: 0.9245\n",
            "Temps de calcul : 264.007700920105\n"
          ]
        }
      ]
    },
    {
      "cell_type": "code",
      "source": [
        "loss, acc = cnn_model2.evaluate(X_test, y_test, verbose=0)\n",
        "\n",
        "print(\"Accuracy model8 adam: %.2f%%\" % (100.0 * acc))\n",
        "\n",
        "predictions = cnn_model2.predict(X_test)\n",
        "pd.crosstab(np.argmax(y_test, axis=1), np.argmax(predictions, axis=1))"
      ],
      "metadata": {
        "execution": {
          "iopub.status.busy": "2023-04-19T16:24:17.812053Z",
          "iopub.execute_input": "2023-04-19T16:24:17.8125Z",
          "iopub.status.idle": "2023-04-19T16:24:19.280653Z",
          "shell.execute_reply.started": "2023-04-19T16:24:17.812463Z",
          "shell.execute_reply": "2023-04-19T16:24:19.279645Z"
        },
        "trusted": true,
        "id": "g6cBMcsOJ8Kt",
        "outputId": "18e9312a-2bf7-4e47-abe3-1c2cb98bc5be",
        "colab": {
          "base_uri": "https://localhost:8080/",
          "height": 242
        }
      },
      "execution_count": null,
      "outputs": [
        {
          "output_type": "stream",
          "name": "stdout",
          "text": [
            "Accuracy model8 adam: 91.83%\n",
            "133/133 [==============================] - 0s 2ms/step\n"
          ]
        },
        {
          "output_type": "execute_result",
          "data": {
            "text/plain": [
              "col_0     0    1     2    3\n",
              "row_0                      \n",
              "0      1890   33    94   21\n",
              "1        12  697    12    2\n",
              "2       122   41  1035    5\n",
              "3         2    2     0  265"
            ],
            "text/html": [
              "\n",
              "  <div id=\"df-8bf7ed60-d423-4776-af02-77bb56162796\" class=\"colab-df-container\">\n",
              "    <div>\n",
              "<style scoped>\n",
              "    .dataframe tbody tr th:only-of-type {\n",
              "        vertical-align: middle;\n",
              "    }\n",
              "\n",
              "    .dataframe tbody tr th {\n",
              "        vertical-align: top;\n",
              "    }\n",
              "\n",
              "    .dataframe thead th {\n",
              "        text-align: right;\n",
              "    }\n",
              "</style>\n",
              "<table border=\"1\" class=\"dataframe\">\n",
              "  <thead>\n",
              "    <tr style=\"text-align: right;\">\n",
              "      <th>col_0</th>\n",
              "      <th>0</th>\n",
              "      <th>1</th>\n",
              "      <th>2</th>\n",
              "      <th>3</th>\n",
              "    </tr>\n",
              "    <tr>\n",
              "      <th>row_0</th>\n",
              "      <th></th>\n",
              "      <th></th>\n",
              "      <th></th>\n",
              "      <th></th>\n",
              "    </tr>\n",
              "  </thead>\n",
              "  <tbody>\n",
              "    <tr>\n",
              "      <th>0</th>\n",
              "      <td>1890</td>\n",
              "      <td>33</td>\n",
              "      <td>94</td>\n",
              "      <td>21</td>\n",
              "    </tr>\n",
              "    <tr>\n",
              "      <th>1</th>\n",
              "      <td>12</td>\n",
              "      <td>697</td>\n",
              "      <td>12</td>\n",
              "      <td>2</td>\n",
              "    </tr>\n",
              "    <tr>\n",
              "      <th>2</th>\n",
              "      <td>122</td>\n",
              "      <td>41</td>\n",
              "      <td>1035</td>\n",
              "      <td>5</td>\n",
              "    </tr>\n",
              "    <tr>\n",
              "      <th>3</th>\n",
              "      <td>2</td>\n",
              "      <td>2</td>\n",
              "      <td>0</td>\n",
              "      <td>265</td>\n",
              "    </tr>\n",
              "  </tbody>\n",
              "</table>\n",
              "</div>\n",
              "    <div class=\"colab-df-buttons\">\n",
              "\n",
              "  <div class=\"colab-df-container\">\n",
              "    <button class=\"colab-df-convert\" onclick=\"convertToInteractive('df-8bf7ed60-d423-4776-af02-77bb56162796')\"\n",
              "            title=\"Convert this dataframe to an interactive table.\"\n",
              "            style=\"display:none;\">\n",
              "\n",
              "  <svg xmlns=\"http://www.w3.org/2000/svg\" height=\"24px\" viewBox=\"0 -960 960 960\">\n",
              "    <path d=\"M120-120v-720h720v720H120Zm60-500h600v-160H180v160Zm220 220h160v-160H400v160Zm0 220h160v-160H400v160ZM180-400h160v-160H180v160Zm440 0h160v-160H620v160ZM180-180h160v-160H180v160Zm440 0h160v-160H620v160Z\"/>\n",
              "  </svg>\n",
              "    </button>\n",
              "\n",
              "  <style>\n",
              "    .colab-df-container {\n",
              "      display:flex;\n",
              "      gap: 12px;\n",
              "    }\n",
              "\n",
              "    .colab-df-convert {\n",
              "      background-color: #E8F0FE;\n",
              "      border: none;\n",
              "      border-radius: 50%;\n",
              "      cursor: pointer;\n",
              "      display: none;\n",
              "      fill: #1967D2;\n",
              "      height: 32px;\n",
              "      padding: 0 0 0 0;\n",
              "      width: 32px;\n",
              "    }\n",
              "\n",
              "    .colab-df-convert:hover {\n",
              "      background-color: #E2EBFA;\n",
              "      box-shadow: 0px 1px 2px rgba(60, 64, 67, 0.3), 0px 1px 3px 1px rgba(60, 64, 67, 0.15);\n",
              "      fill: #174EA6;\n",
              "    }\n",
              "\n",
              "    .colab-df-buttons div {\n",
              "      margin-bottom: 4px;\n",
              "    }\n",
              "\n",
              "    [theme=dark] .colab-df-convert {\n",
              "      background-color: #3B4455;\n",
              "      fill: #D2E3FC;\n",
              "    }\n",
              "\n",
              "    [theme=dark] .colab-df-convert:hover {\n",
              "      background-color: #434B5C;\n",
              "      box-shadow: 0px 1px 3px 1px rgba(0, 0, 0, 0.15);\n",
              "      filter: drop-shadow(0px 1px 2px rgba(0, 0, 0, 0.3));\n",
              "      fill: #FFFFFF;\n",
              "    }\n",
              "  </style>\n",
              "\n",
              "    <script>\n",
              "      const buttonEl =\n",
              "        document.querySelector('#df-8bf7ed60-d423-4776-af02-77bb56162796 button.colab-df-convert');\n",
              "      buttonEl.style.display =\n",
              "        google.colab.kernel.accessAllowed ? 'block' : 'none';\n",
              "\n",
              "      async function convertToInteractive(key) {\n",
              "        const element = document.querySelector('#df-8bf7ed60-d423-4776-af02-77bb56162796');\n",
              "        const dataTable =\n",
              "          await google.colab.kernel.invokeFunction('convertToInteractive',\n",
              "                                                    [key], {});\n",
              "        if (!dataTable) return;\n",
              "\n",
              "        const docLinkHtml = 'Like what you see? Visit the ' +\n",
              "          '<a target=\"_blank\" href=https://colab.research.google.com/notebooks/data_table.ipynb>data table notebook</a>'\n",
              "          + ' to learn more about interactive tables.';\n",
              "        element.innerHTML = '';\n",
              "        dataTable['output_type'] = 'display_data';\n",
              "        await google.colab.output.renderOutput(dataTable, element);\n",
              "        const docLink = document.createElement('div');\n",
              "        docLink.innerHTML = docLinkHtml;\n",
              "        element.appendChild(docLink);\n",
              "      }\n",
              "    </script>\n",
              "  </div>\n",
              "\n",
              "\n",
              "<div id=\"df-6e54f0cb-9df9-4f4c-bccf-206720c6156d\">\n",
              "  <button class=\"colab-df-quickchart\" onclick=\"quickchart('df-6e54f0cb-9df9-4f4c-bccf-206720c6156d')\"\n",
              "            title=\"Suggest charts\"\n",
              "            style=\"display:none;\">\n",
              "\n",
              "<svg xmlns=\"http://www.w3.org/2000/svg\" height=\"24px\"viewBox=\"0 0 24 24\"\n",
              "     width=\"24px\">\n",
              "    <g>\n",
              "        <path d=\"M19 3H5c-1.1 0-2 .9-2 2v14c0 1.1.9 2 2 2h14c1.1 0 2-.9 2-2V5c0-1.1-.9-2-2-2zM9 17H7v-7h2v7zm4 0h-2V7h2v10zm4 0h-2v-4h2v4z\"/>\n",
              "    </g>\n",
              "</svg>\n",
              "  </button>\n",
              "\n",
              "<style>\n",
              "  .colab-df-quickchart {\n",
              "      --bg-color: #E8F0FE;\n",
              "      --fill-color: #1967D2;\n",
              "      --hover-bg-color: #E2EBFA;\n",
              "      --hover-fill-color: #174EA6;\n",
              "      --disabled-fill-color: #AAA;\n",
              "      --disabled-bg-color: #DDD;\n",
              "  }\n",
              "\n",
              "  [theme=dark] .colab-df-quickchart {\n",
              "      --bg-color: #3B4455;\n",
              "      --fill-color: #D2E3FC;\n",
              "      --hover-bg-color: #434B5C;\n",
              "      --hover-fill-color: #FFFFFF;\n",
              "      --disabled-bg-color: #3B4455;\n",
              "      --disabled-fill-color: #666;\n",
              "  }\n",
              "\n",
              "  .colab-df-quickchart {\n",
              "    background-color: var(--bg-color);\n",
              "    border: none;\n",
              "    border-radius: 50%;\n",
              "    cursor: pointer;\n",
              "    display: none;\n",
              "    fill: var(--fill-color);\n",
              "    height: 32px;\n",
              "    padding: 0;\n",
              "    width: 32px;\n",
              "  }\n",
              "\n",
              "  .colab-df-quickchart:hover {\n",
              "    background-color: var(--hover-bg-color);\n",
              "    box-shadow: 0 1px 2px rgba(60, 64, 67, 0.3), 0 1px 3px 1px rgba(60, 64, 67, 0.15);\n",
              "    fill: var(--button-hover-fill-color);\n",
              "  }\n",
              "\n",
              "  .colab-df-quickchart-complete:disabled,\n",
              "  .colab-df-quickchart-complete:disabled:hover {\n",
              "    background-color: var(--disabled-bg-color);\n",
              "    fill: var(--disabled-fill-color);\n",
              "    box-shadow: none;\n",
              "  }\n",
              "\n",
              "  .colab-df-spinner {\n",
              "    border: 2px solid var(--fill-color);\n",
              "    border-color: transparent;\n",
              "    border-bottom-color: var(--fill-color);\n",
              "    animation:\n",
              "      spin 1s steps(1) infinite;\n",
              "  }\n",
              "\n",
              "  @keyframes spin {\n",
              "    0% {\n",
              "      border-color: transparent;\n",
              "      border-bottom-color: var(--fill-color);\n",
              "      border-left-color: var(--fill-color);\n",
              "    }\n",
              "    20% {\n",
              "      border-color: transparent;\n",
              "      border-left-color: var(--fill-color);\n",
              "      border-top-color: var(--fill-color);\n",
              "    }\n",
              "    30% {\n",
              "      border-color: transparent;\n",
              "      border-left-color: var(--fill-color);\n",
              "      border-top-color: var(--fill-color);\n",
              "      border-right-color: var(--fill-color);\n",
              "    }\n",
              "    40% {\n",
              "      border-color: transparent;\n",
              "      border-right-color: var(--fill-color);\n",
              "      border-top-color: var(--fill-color);\n",
              "    }\n",
              "    60% {\n",
              "      border-color: transparent;\n",
              "      border-right-color: var(--fill-color);\n",
              "    }\n",
              "    80% {\n",
              "      border-color: transparent;\n",
              "      border-right-color: var(--fill-color);\n",
              "      border-bottom-color: var(--fill-color);\n",
              "    }\n",
              "    90% {\n",
              "      border-color: transparent;\n",
              "      border-bottom-color: var(--fill-color);\n",
              "    }\n",
              "  }\n",
              "</style>\n",
              "\n",
              "  <script>\n",
              "    async function quickchart(key) {\n",
              "      const quickchartButtonEl =\n",
              "        document.querySelector('#' + key + ' button');\n",
              "      quickchartButtonEl.disabled = true;  // To prevent multiple clicks.\n",
              "      quickchartButtonEl.classList.add('colab-df-spinner');\n",
              "      try {\n",
              "        const charts = await google.colab.kernel.invokeFunction(\n",
              "            'suggestCharts', [key], {});\n",
              "      } catch (error) {\n",
              "        console.error('Error during call to suggestCharts:', error);\n",
              "      }\n",
              "      quickchartButtonEl.classList.remove('colab-df-spinner');\n",
              "      quickchartButtonEl.classList.add('colab-df-quickchart-complete');\n",
              "    }\n",
              "    (() => {\n",
              "      let quickchartButtonEl =\n",
              "        document.querySelector('#df-6e54f0cb-9df9-4f4c-bccf-206720c6156d button');\n",
              "      quickchartButtonEl.style.display =\n",
              "        google.colab.kernel.accessAllowed ? 'block' : 'none';\n",
              "    })();\n",
              "  </script>\n",
              "</div>\n",
              "\n",
              "    </div>\n",
              "  </div>\n"
            ],
            "application/vnd.google.colaboratory.intrinsic+json": {
              "type": "dataframe",
              "summary": "{\n  \"name\": \"pd\",\n  \"rows\": 4,\n  \"fields\": [\n    {\n      \"column\": 0,\n      \"properties\": {\n        \"dtype\": \"number\",\n        \"std\": 923,\n        \"min\": 2,\n        \"max\": 1890,\n        \"num_unique_values\": 4,\n        \"samples\": [\n          12,\n          2,\n          1890\n        ],\n        \"semantic_type\": \"\",\n        \"description\": \"\"\n      }\n    },\n    {\n      \"column\": 1,\n      \"properties\": {\n        \"dtype\": \"number\",\n        \"std\": 336,\n        \"min\": 2,\n        \"max\": 697,\n        \"num_unique_values\": 4,\n        \"samples\": [\n          697,\n          2,\n          33\n        ],\n        \"semantic_type\": \"\",\n        \"description\": \"\"\n      }\n    },\n    {\n      \"column\": 2,\n      \"properties\": {\n        \"dtype\": \"number\",\n        \"std\": 501,\n        \"min\": 0,\n        \"max\": 1035,\n        \"num_unique_values\": 4,\n        \"samples\": [\n          12,\n          0,\n          94\n        ],\n        \"semantic_type\": \"\",\n        \"description\": \"\"\n      }\n    },\n    {\n      \"column\": 3,\n      \"properties\": {\n        \"dtype\": \"number\",\n        \"std\": 128,\n        \"min\": 2,\n        \"max\": 265,\n        \"num_unique_values\": 4,\n        \"samples\": [\n          2,\n          265,\n          21\n        ],\n        \"semantic_type\": \"\",\n        \"description\": \"\"\n      }\n    }\n  ]\n}"
            }
          },
          "metadata": {},
          "execution_count": 27
        }
      ]
    },
    {
      "cell_type": "code",
      "source": [
        "# confusion matrix and accuracy\n",
        "\n",
        "from sklearn import metrics\n",
        "from sklearn.metrics import classification_report\n",
        "\n",
        "print(\"Classification report for classifier :\\n\"\n",
        "      f\"{metrics.classification_report(np.argmax(y_test, axis=1), np.argmax(predictions, axis=1))}\\n\")"
      ],
      "metadata": {
        "execution": {
          "iopub.status.busy": "2023-04-19T16:24:19.282643Z",
          "iopub.execute_input": "2023-04-19T16:24:19.283398Z",
          "iopub.status.idle": "2023-04-19T16:24:19.301586Z",
          "shell.execute_reply.started": "2023-04-19T16:24:19.283358Z",
          "shell.execute_reply": "2023-04-19T16:24:19.299966Z"
        },
        "trusted": true,
        "id": "rqehsg31J8Ku",
        "outputId": "18f35b0e-1464-448e-93d1-a9f2a00ca7fe",
        "colab": {
          "base_uri": "https://localhost:8080/"
        }
      },
      "execution_count": null,
      "outputs": [
        {
          "output_type": "stream",
          "name": "stdout",
          "text": [
            "Classification report for classifier :\n",
            "              precision    recall  f1-score   support\n",
            "\n",
            "           0       0.93      0.93      0.93      2038\n",
            "           1       0.90      0.96      0.93       723\n",
            "           2       0.91      0.86      0.88      1203\n",
            "           3       0.90      0.99      0.94       269\n",
            "\n",
            "    accuracy                           0.92      4233\n",
            "   macro avg       0.91      0.93      0.92      4233\n",
            "weighted avg       0.92      0.92      0.92      4233\n",
            "\n",
            "\n"
          ]
        }
      ]
    },
    {
      "cell_type": "code",
      "source": [
        "!pip install roboflow\n",
        "\n",
        "from roboflow import Roboflow\n",
        "rf = Roboflow(api_key=\"IHZ6TVDz3MTd1tmO9V4l\")\n",
        "project = rf.workspace(\"roboflow-100\").project(\"solar-panels-taxvb\")\n",
        "version = project.version(2)\n",
        "dataset = version.download(\"yolov8\")\n"
      ],
      "metadata": {
        "colab": {
          "base_uri": "https://localhost:8080/",
          "height": 1000
        },
        "id": "5jv-e-oW5a5d",
        "outputId": "857a3133-30c7-45a3-bcc5-4d16e533b17b"
      },
      "execution_count": null,
      "outputs": [
        {
          "output_type": "stream",
          "name": "stdout",
          "text": [
            "Collecting roboflow\n",
            "  Downloading roboflow-1.1.22-py3-none-any.whl (70 kB)\n",
            "\u001b[2K     \u001b[90m━━━━━━━━━━━━━━━━━━━━━━━━━━━━━━━━━━━━━━━━\u001b[0m \u001b[32m70.9/70.9 kB\u001b[0m \u001b[31m2.0 MB/s\u001b[0m eta \u001b[36m0:00:00\u001b[0m\n",
            "\u001b[?25hCollecting certifi==2023.7.22 (from roboflow)\n",
            "  Downloading certifi-2023.7.22-py3-none-any.whl (158 kB)\n",
            "\u001b[2K     \u001b[90m━━━━━━━━━━━━━━━━━━━━━━━━━━━━━━━━━━━━━━━━\u001b[0m \u001b[32m158.3/158.3 kB\u001b[0m \u001b[31m7.9 MB/s\u001b[0m eta \u001b[36m0:00:00\u001b[0m\n",
            "\u001b[?25hCollecting chardet==4.0.0 (from roboflow)\n",
            "  Downloading chardet-4.0.0-py2.py3-none-any.whl (178 kB)\n",
            "\u001b[2K     \u001b[90m━━━━━━━━━━━━━━━━━━━━━━━━━━━━━━━━━━━━━━━━\u001b[0m \u001b[32m178.7/178.7 kB\u001b[0m \u001b[31m22.8 MB/s\u001b[0m eta \u001b[36m0:00:00\u001b[0m\n",
            "\u001b[?25hCollecting cycler==0.10.0 (from roboflow)\n",
            "  Downloading cycler-0.10.0-py2.py3-none-any.whl (6.5 kB)\n",
            "Collecting idna==2.10 (from roboflow)\n",
            "  Downloading idna-2.10-py2.py3-none-any.whl (58 kB)\n",
            "\u001b[2K     \u001b[90m━━━━━━━━━━━━━━━━━━━━━━━━━━━━━━━━━━━━━━━━\u001b[0m \u001b[32m58.8/58.8 kB\u001b[0m \u001b[31m8.4 MB/s\u001b[0m eta \u001b[36m0:00:00\u001b[0m\n",
            "\u001b[?25hRequirement already satisfied: kiwisolver>=1.3.1 in /usr/local/lib/python3.10/dist-packages (from roboflow) (1.4.5)\n",
            "Requirement already satisfied: matplotlib in /usr/local/lib/python3.10/dist-packages (from roboflow) (3.7.1)\n",
            "Requirement already satisfied: numpy>=1.18.5 in /usr/local/lib/python3.10/dist-packages (from roboflow) (1.25.2)\n",
            "Collecting opencv-python-headless==4.8.0.74 (from roboflow)\n",
            "  Downloading opencv_python_headless-4.8.0.74-cp37-abi3-manylinux_2_17_x86_64.manylinux2014_x86_64.whl (49.1 MB)\n",
            "\u001b[2K     \u001b[90m━━━━━━━━━━━━━━━━━━━━━━━━━━━━━━━━━━━━━━━━\u001b[0m \u001b[32m49.1/49.1 MB\u001b[0m \u001b[31m14.8 MB/s\u001b[0m eta \u001b[36m0:00:00\u001b[0m\n",
            "\u001b[?25hRequirement already satisfied: Pillow>=7.1.2 in /usr/local/lib/python3.10/dist-packages (from roboflow) (9.4.0)\n",
            "Requirement already satisfied: python-dateutil in /usr/local/lib/python3.10/dist-packages (from roboflow) (2.8.2)\n",
            "Collecting python-dotenv (from roboflow)\n",
            "  Downloading python_dotenv-1.0.1-py3-none-any.whl (19 kB)\n",
            "Requirement already satisfied: requests in /usr/local/lib/python3.10/dist-packages (from roboflow) (2.31.0)\n",
            "Requirement already satisfied: six in /usr/local/lib/python3.10/dist-packages (from roboflow) (1.16.0)\n",
            "Requirement already satisfied: urllib3>=1.26.6 in /usr/local/lib/python3.10/dist-packages (from roboflow) (2.0.7)\n",
            "Requirement already satisfied: tqdm>=4.41.0 in /usr/local/lib/python3.10/dist-packages (from roboflow) (4.66.2)\n",
            "Requirement already satisfied: PyYAML>=5.3.1 in /usr/local/lib/python3.10/dist-packages (from roboflow) (6.0.1)\n",
            "Collecting requests-toolbelt (from roboflow)\n",
            "  Downloading requests_toolbelt-1.0.0-py2.py3-none-any.whl (54 kB)\n",
            "\u001b[2K     \u001b[90m━━━━━━━━━━━━━━━━━━━━━━━━━━━━━━━━━━━━━━━━\u001b[0m \u001b[32m54.5/54.5 kB\u001b[0m \u001b[31m8.5 MB/s\u001b[0m eta \u001b[36m0:00:00\u001b[0m\n",
            "\u001b[?25hCollecting python-magic (from roboflow)\n",
            "  Downloading python_magic-0.4.27-py2.py3-none-any.whl (13 kB)\n",
            "Requirement already satisfied: contourpy>=1.0.1 in /usr/local/lib/python3.10/dist-packages (from matplotlib->roboflow) (1.2.0)\n",
            "Requirement already satisfied: fonttools>=4.22.0 in /usr/local/lib/python3.10/dist-packages (from matplotlib->roboflow) (4.49.0)\n",
            "Requirement already satisfied: packaging>=20.0 in /usr/local/lib/python3.10/dist-packages (from matplotlib->roboflow) (23.2)\n",
            "Requirement already satisfied: pyparsing>=2.3.1 in /usr/local/lib/python3.10/dist-packages (from matplotlib->roboflow) (3.1.1)\n",
            "Requirement already satisfied: charset-normalizer<4,>=2 in /usr/local/lib/python3.10/dist-packages (from requests->roboflow) (3.3.2)\n",
            "Installing collected packages: python-magic, python-dotenv, opencv-python-headless, idna, cycler, chardet, certifi, requests-toolbelt, roboflow\n",
            "  Attempting uninstall: opencv-python-headless\n",
            "    Found existing installation: opencv-python-headless 4.9.0.80\n",
            "    Uninstalling opencv-python-headless-4.9.0.80:\n",
            "      Successfully uninstalled opencv-python-headless-4.9.0.80\n",
            "  Attempting uninstall: idna\n",
            "    Found existing installation: idna 3.6\n",
            "    Uninstalling idna-3.6:\n",
            "      Successfully uninstalled idna-3.6\n",
            "  Attempting uninstall: cycler\n",
            "    Found existing installation: cycler 0.12.1\n",
            "    Uninstalling cycler-0.12.1:\n",
            "      Successfully uninstalled cycler-0.12.1\n",
            "  Attempting uninstall: chardet\n",
            "    Found existing installation: chardet 5.2.0\n",
            "    Uninstalling chardet-5.2.0:\n",
            "      Successfully uninstalled chardet-5.2.0\n",
            "  Attempting uninstall: certifi\n",
            "    Found existing installation: certifi 2024.2.2\n",
            "    Uninstalling certifi-2024.2.2:\n",
            "      Successfully uninstalled certifi-2024.2.2\n",
            "Successfully installed certifi-2023.7.22 chardet-4.0.0 cycler-0.10.0 idna-2.10 opencv-python-headless-4.8.0.74 python-dotenv-1.0.1 python-magic-0.4.27 requests-toolbelt-1.0.0 roboflow-1.1.22\n"
          ]
        },
        {
          "output_type": "display_data",
          "data": {
            "application/vnd.colab-display-data+json": {
              "pip_warning": {
                "packages": [
                  "certifi",
                  "cycler"
                ]
              },
              "id": "80d163a07c4f425cb18ee979c61ead37"
            }
          },
          "metadata": {}
        },
        {
          "output_type": "stream",
          "name": "stdout",
          "text": [
            "loading Roboflow workspace...\n",
            "loading Roboflow project...\n",
            "[WARNING] we noticed you are downloading a `yolov8` datasets but you don't have `ultralytics` installed. Roboflow `.deploy` supports only models trained with `ultralytics==8.0.196`, to intall it `pip install ultralytics==8.0.196`.\n"
          ]
        },
        {
          "output_type": "stream",
          "name": "stderr",
          "text": [
            "Downloading Dataset Version Zip in solar-panels-2 to yolov8:: 100%|██████████| 11132/11132 [00:01<00:00, 5815.63it/s] "
          ]
        },
        {
          "output_type": "stream",
          "name": "stdout",
          "text": [
            "\n"
          ]
        },
        {
          "output_type": "stream",
          "name": "stderr",
          "text": [
            "\n",
            "Extracting Dataset Version Zip to solar-panels-2 in yolov8:: 100%|██████████| 334/334 [00:00<00:00, 1874.50it/s]\n"
          ]
        }
      ]
    },
    {
      "cell_type": "code",
      "source": [],
      "metadata": {
        "id": "AUL7BIorJ8Ku"
      },
      "execution_count": null,
      "outputs": []
    }
  ]
}